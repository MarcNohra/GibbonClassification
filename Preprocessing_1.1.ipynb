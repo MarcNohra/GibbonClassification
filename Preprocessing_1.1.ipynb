{
 "cells": [
  {
   "cell_type": "code",
   "execution_count": 1,
   "metadata": {},
   "outputs": [
    {
     "data": {
      "text/plain": [
       "'/cs/home/mn80/PycharmProjects/Gibbons/Code/GibbonClassification'"
      ]
     },
     "execution_count": 1,
     "metadata": {},
     "output_type": "execute_result"
    }
   ],
   "source": [
    "# import os\n",
    "# os.chdir('./Code/GibbonClassification')\n",
    "# os.getcwd()\n"
   ]
  },
  {
   "cell_type": "code",
   "execution_count": 1,
   "metadata": {},
   "outputs": [
    {
     "name": "stdout",
     "output_type": "stream",
     "text": [
      "\n",
      "WARNING: The TensorFlow contrib module will not be included in TensorFlow 2.0.\n",
      "For more information, please see:\n",
      "  * https://github.com/tensorflow/community/blob/master/rfcs/20180907-contrib-sunset.md\n",
      "  * https://github.com/tensorflow/addons\n",
      "If you depend on functionality not listed there, please file an issue.\n",
      "\n"
     ]
    },
    {
     "name": "stderr",
     "output_type": "stream",
     "text": [
      "Using TensorFlow backend.\n",
      "/Applications/anaconda3/lib/python3.7/site-packages/pydub/utils.py:165: RuntimeWarning: Couldn't find ffmpeg or avconv - defaulting to ffmpeg, but may not work\n",
      "  warn(\"Couldn't find ffmpeg or avconv - defaulting to ffmpeg, but may not work\", RuntimeWarning)\n"
     ]
    }
   ],
   "source": [
    "import Functions as func\n",
    "import vggish_main as vgg\n",
    "from pydub import AudioSegment\n",
    "import wave\n",
    "import pickle\n",
    "import numpy as np\n",
    "from scipy.io import wavfile\n",
    "from scipy import signal\n",
    "import matplotlib.pyplot as plt\n",
    "import pandas as pd\n",
    "import librosa\n",
    "import os\n",
    "import sys\n",
    "import pickle\n",
    "# from cfg import config\n",
    "\n",
    "from sklearn.metrics import classification_report\n"
   ]
  },
  {
   "cell_type": "code",
   "execution_count": 2,
   "metadata": {},
   "outputs": [],
   "source": [
    "from keras.layers import Conv2D, MaxPool2D, Flatten, LSTM\n",
    "from keras.layers import Dropout, Dense, TimeDistributed\n",
    "from keras.models import Sequential\n",
    "from keras.utils import to_categorical\n",
    "\n",
    "from sklearn.utils.class_weight import compute_class_weight\n",
    "import tensorflow as tf\n"
   ]
  },
  {
   "cell_type": "code",
   "execution_count": 3,
   "metadata": {},
   "outputs": [],
   "source": [
    "from tqdm import tqdm\n",
    "# https://github.com/jameslyons/python_speech_features\n",
    "from python_speech_features import mfcc, logfbank\n",
    "\n"
   ]
  },
  {
   "cell_type": "code",
   "execution_count": 4,
   "metadata": {},
   "outputs": [],
   "source": [
    "# General Variables:\n",
    "# main_path = '/cs/scratch/mn80/'\n",
    "main_path = '../../'\n",
    "raw_data = main_path + 'rawdata/'\n",
    "data_path = main_path + 'FreshStart/Data/'"
   ]
  },
  {
   "cell_type": "markdown",
   "metadata": {},
   "source": [
    "### Plot the Spectrogram from VGG Mels #### TO Remove"
   ]
  },
  {
   "cell_type": "code",
   "execution_count": 79,
   "metadata": {},
   "outputs": [
    {
     "data": {
      "image/png": "[encoded data removed]",
      "text/plain": [
       "<Figure size 432x288 with 1 Axes>"
      ]
     },
     "metadata": {
      "needs_background": "light"
     },
     "output_type": "display_data"
    },
    {
     "data": {
      "image/png": "[encoded data removed]",
      "text/plain": [
       "<Figure size 432x288 with 1 Axes>"
      ]
     },
     "metadata": {
      "needs_background": "light"
     },
     "output_type": "display_data"
    }
   ],
   "source": [
    "fname_1 = '1_HGSM3A_0+1_20160304_060000-03.wav'\n",
    "# fname_2 = '1_HGSM3A_0+1_20160304_060000-04.wav'\n",
    "fname_2 = '4_HGSM3AC_0+1_20160314_055200-06.wav'\n",
    "vgg_mfcc_1 = pickle.load(open(data_path + 'VGG_unmasked/' + fname_1, 'rb'))\n",
    "vgg_mfcc_2 = pickle.load(open(data_path + 'VGG_unmasked/' + fname_2, 'rb'))\n",
    "\n",
    "plt.imshow(list(vgg_mfcc_1), cmap='hot', interpolation='nearest')\n",
    "plt.show()\n",
    "plt.imshow(list(vgg_mfcc_2), cmap='hot', interpolation='nearest')\n",
    "plt.show()"
   ]
  },
  {
   "cell_type": "markdown",
   "metadata": {},
   "source": [
    "### Convert Stereo to Mono audio files"
   ]
  },
  {
   "cell_type": "code",
   "execution_count": 5,
   "metadata": {},
   "outputs": [],
   "source": [
    "# # Convert Stereo to Mono\n",
    "# file_name = '6_HGSM3B_0+1_20150617_050600.wav'\n",
    "# mysound = AudioSegment.from_wav(raw_data + file_name)\n",
    "# mysound = mysound.set_channels(1)\n",
    "# mysound.export(main_path + 'FreshStart/Data/Mono_Raw/' + file_name, format=\"wav\")\n"
   ]
  },
  {
   "cell_type": "markdown",
   "metadata": {},
   "source": [
    "### Apply low pass filter to files"
   ]
  },
  {
   "cell_type": "code",
   "execution_count": 6,
   "metadata": {},
   "outputs": [],
   "source": [
    "# file_name = '6_HGSM3B_0+1_20150617_050600.wav'\n",
    "# file_name_output = main_path + 'FreshStart/Data/Remez_Low_Pass/' + file_name\n",
    "\n",
    "# # Read the audio file\n",
    "# data, sr = func.read_wav(main_path + 'FreshStart/Data/Mono_Raw/' + file_name)\n",
    "\n",
    "# # Apply the low pass filetr to the data\n",
    "# taps = func.low_pass_remez(fs=sr, cutoff=2000)\n",
    "# # low_pass_data_remrez = np.convolve(data, taps)\n",
    "# low_pass_data_remrez = signal.convolve(, method='direct')\n",
    "\n",
    "# # Save the filtered data\n",
    "# wavfile.write(file_name_output, sr, low_pass_data_remrez)\n"
   ]
  },
  {
   "cell_type": "markdown",
   "metadata": {},
   "source": [
    "### Preprocessing"
   ]
  },
  {
   "cell_type": "code",
   "execution_count": 5,
   "metadata": {},
   "outputs": [
    {
     "name": "stderr",
     "output_type": "stream",
     "text": [
      "/Applications/anaconda3/lib/python3.7/site-packages/scipy/io/wavfile.py:273: WavFileWarning: Chunk (non-data) not understood, skipping it.\n",
      "  WavFileWarning)\n"
     ]
    }
   ],
   "source": [
    "# Read the csv file\n",
    "# The csv contains the audio file names and their corresponding label\n",
    "# fname and label\n",
    "df = pd.read_csv(data_path + 'files_labels.csv')\n",
    "df.set_index('fname', inplace=True)\n",
    "for f in df.index:\n",
    "#     print(data_path + df.at[f, 'fpath'])\n",
    "    rate, signal = wavfile.read(data_path + df.at[f, 'fpath'])\n",
    "    df.at[f, 'length'] = signal.shape[0]/rate\n",
    "\n",
    "# Get the classes distribution\n",
    "classes=list(np.unique(df.label))\n",
    "class_dist=df.groupby(['label'])['length'].sum()\n"
   ]
  },
  {
   "cell_type": "code",
   "execution_count": 6,
   "metadata": {},
   "outputs": [
    {
     "data": {
      "text/plain": [
       "label\n",
       "0    62069.156875\n",
       "1     1533.966875\n",
       "Name: length, dtype: float64"
      ]
     },
     "execution_count": 6,
     "metadata": {},
     "output_type": "execute_result"
    }
   ],
   "source": [
    "class_dist"
   ]
  },
  {
   "cell_type": "code",
   "execution_count": 7,
   "metadata": {},
   "outputs": [
    {
     "data": {
      "image/png": "[encoded data removed]",
      "text/plain": [
       "<Figure size 432x288 with 1 Axes>"
      ]
     },
     "metadata": {},
     "output_type": "display_data"
    }
   ],
   "source": [
    "# Plot the distribution\n",
    "fig, ax = plt.subplots()\n",
    "ax.set_title('Class Distribution', y=1.08)\n",
    "ax.pie(class_dist, labels=class_dist.index, autopct='%1.1f%%', shadow=False, startangle=90)\n",
    "ax.axis('equal')\n",
    "plt.show()\n",
    "df.reset_index(inplace=True)\n"
   ]
  },
  {
   "cell_type": "code",
   "execution_count": 8,
   "metadata": {},
   "outputs": [
    {
     "name": "stderr",
     "output_type": "stream",
     "text": [
      "/Applications/anaconda3/lib/python3.7/site-packages/scipy/io/wavfile.py:273: WavFileWarning: Chunk (non-data) not understood, skipping it.\n",
      "  WavFileWarning)\n"
     ]
    },
    {
     "data": {
      "image/png": "[encoded data removed]",
      "text/plain": [
       "<Figure size 1440x360 with 4 Axes>"
      ]
     },
     "metadata": {
      "needs_background": "light"
     },
     "output_type": "display_data"
    },
    {
     "data": {
      "image/png": "[encoded data removed]",
      "text/plain": [
       "<Figure size 1440x360 with 4 Axes>"
      ]
     },
     "metadata": {
      "needs_background": "light"
     },
     "output_type": "display_data"
    },
    {
     "data": {
      "image/png": "[encoded data removed]",
      "text/plain": [
       "<Figure size 1440x360 with 4 Axes>"
      ]
     },
     "metadata": {
      "needs_background": "light"
     },
     "output_type": "display_data"
    },
    {
     "data": {
      "image/png": "[encoded data removed]",
      "text/plain": [
       "<Figure size 1440x360 with 4 Axes>"
      ]
     },
     "metadata": {
      "needs_background": "light"
     },
     "output_type": "display_data"
    }
   ],
   "source": [
    "# Plot the fft\n",
    "\n",
    "signals={}\n",
    "fft={}\n",
    "fbank={}\n",
    "mfccs={}\n",
    "\n",
    "for c in classes:\n",
    "    wav_file=df[df.label==c].iloc[0, 1]\n",
    "    # Get the sample rate before calling librosa\n",
    "    sr, signal = wavfile.read(data_path+wav_file)\n",
    "    signal, rate=librosa.load(data_path+wav_file, sr=sr, duration=5)\n",
    "    \n",
    "    mask=func.envelope(signal, rate, 0.0005)\n",
    "    signal=signal[mask]\n",
    "    \n",
    "    signals[c]=signal\n",
    "    fft[c]=func.calc_fft(signal, rate)\n",
    "    \n",
    "    # Get the log bank of 1s\n",
    "    bank=logfbank(signal[:rate], rate, nfilt=26, nfft=512,winlen=0.025).T\n",
    "    fbank[c]=bank\n",
    "    \n",
    "    # Get the MFCC\n",
    "    mel=mfcc(signal[:rate], rate, numcep=13, nfilt=26, nfft=512)\n",
    "    mfccs[c]=mel\n",
    "    \n",
    "func.plot_signals(signals)\n",
    "plt.show()\n",
    "\n",
    "func.plot_fft(fft)\n",
    "plt.show()\n",
    "\n",
    "func.plot_fbank(fbank)\n",
    "plt.show()\n",
    "\n",
    "func.plot_mfccs(mfccs)\n",
    "plt.show()\n"
   ]
  },
  {
   "cell_type": "code",
   "execution_count": 9,
   "metadata": {},
   "outputs": [],
   "source": [
    "# ## if len(os.listdir(data_path+'clean')) == 0:\n",
    "# for f in tqdm(df.index):\n",
    "#     signal, rate=librosa.load(data_path+df.at[f, 'fpath'], sr=sr)\n",
    "#     mask=func.envelope(signal, rate, 0.0005)\n",
    "#     filename_out=data_path+'clean/'+f\n",
    "#     wavfile.write(filename=filename_out, rate=rate, data=signal[mask])"
   ]
  },
  {
   "cell_type": "code",
   "execution_count": 45,
   "metadata": {},
   "outputs": [],
   "source": [
    "class Config:\n",
    "    def __init__(self, mode='conv', nfilt=26, nfeat=13, nfft=512, rate=9600):\n",
    "        self.mode=mode\n",
    "        self.nfilt=nfilt\n",
    "        self.nfeat=nfeat\n",
    "        self.nfft=nfft\n",
    "        self.rate=rate\n",
    "        self.step=int(rate/10)"
   ]
  },
  {
   "cell_type": "code",
   "execution_count": 46,
   "metadata": {},
   "outputs": [],
   "source": [
    "def build_rand_feat():\n",
    "    X=[]\n",
    "    y=[]\n",
    "    _min, _max=float('inf'), -float('inf')\n",
    "    for _ in tqdm(range(n_samples)):\n",
    "        # Pick a class randomly\n",
    "        rand_class=np.random.choice(class_dist.index, p=prob_dist)\n",
    "        # Choose a random audio file from that class\n",
    "        file_index=np.random.choice(df[df.label==rand_class].index)\n",
    "        file=df[df.index==file_index].fname.iloc[0]\n",
    "        file=file.split('/')[2]\n",
    "        rate, wav=wavfile.read(data_path+'Clean/'+file)\n",
    "        label=df.at[file_index, 'label']\n",
    "        # Pick a random index to start reading from the file, with a step size\n",
    "        # This is done so that the model can learn the class from a small sample of the audio file\n",
    "        # Can be removed if I want to use the whole file, maybe for LSTM\n",
    "        rand_index=np.random.randint(0, wav.shape[0]-config.step)\n",
    "        sample=wav[rand_index:rand_index+config.step]\n",
    "        # Generate the features and fill the data\n",
    "        X_sample=mfcc(sample, rate, numcep=config.nfeat, nfilt=config.nfilt, nfft=config.nfft).T\n",
    "        _min=min(np.amin(X_sample), _min)\n",
    "        _max=max(np.amax(X_sample), _max)\n",
    "        X.append(X_sample if config.mode=='conv' else X_sample.T)\n",
    "        y.append(classes.index(label))\n",
    "        \n",
    "    # Convert to array\n",
    "    X, y=np.array(X), np.array(y)\n",
    "    # Normalize\n",
    "    X=(X-_min)/(_max-_min)\n",
    "    \n",
    "    print(X.shape)\n",
    "    \n",
    "    # Reshape X\n",
    "    if config.mode=='conv':\n",
    "        X=X.reshape(X.shape[0], X.shape[1], X.shape[2], 1)\n",
    "    elif config.mode=='time':\n",
    "        X=X.reshape(X.shape[0], X.shape[1], X.shape[2])\n",
    "    # Can remove this since I have a binary cross entropy loss function\n",
    "#     y=to_categorical(y, num_classes=2)\n",
    "    return X, y"
   ]
  },
  {
   "cell_type": "code",
   "execution_count": 22,
   "metadata": {},
   "outputs": [],
   "source": [
    "# To install the Tensorflow with gpu support\n",
    "# https://medium.com/better-programming/install-tensorflow-1-13-on-ubuntu-18-04-with-gpu-support-239b36d29070\n",
    "\n",
    "\n",
    "# n_samples=2*int(df['length'].sum()/0.1)\n",
    "n_samples=int((df['length'].sum()/0.1)/4000)\n",
    "# prob_dist=class_dist/class_dist.sum()\n",
    "prob_dist = pd.Series([0.7, 0.3], index=[0,1])\n",
    "choices=np.random.choice(class_dist.index, p=prob_dist)\n",
    "    \n"
   ]
  },
  {
   "cell_type": "markdown",
   "metadata": {},
   "source": [
    "### Run the conv model"
   ]
  },
  {
   "cell_type": "code",
   "execution_count": 14,
   "metadata": {
    "scrolled": true
   },
   "outputs": [
    {
     "name": "stderr",
     "output_type": "stream",
     "text": [
      "100%|██████████| 72/72 [00:30<00:00,  1.69it/s]"
     ]
    },
    {
     "name": "stdout",
     "output_type": "stream",
     "text": [
      "(72, 13, 9)\n",
      "WARNING:tensorflow:From /Applications/anaconda3/lib/python3.7/site-packages/tensorflow/python/framework/op_def_library.py:263: colocate_with (from tensorflow.python.framework.ops) is deprecated and will be removed in a future version.\n",
      "Instructions for updating:\n",
      "Colocations handled automatically by placer.\n",
      "WARNING:tensorflow:From /Applications/anaconda3/lib/python3.7/site-packages/keras/backend/tensorflow_backend.py:3445: calling dropout (from tensorflow.python.ops.nn_ops) with keep_prob is deprecated and will be removed in a future version.\n",
      "Instructions for updating:\n",
      "Please use `rate` instead of `keep_prob`. Rate should be set to `rate = 1 - keep_prob`.\n"
     ]
    },
    {
     "name": "stderr",
     "output_type": "stream",
     "text": [
      "\n"
     ]
    },
    {
     "name": "stdout",
     "output_type": "stream",
     "text": [
      "_________________________________________________________________\n",
      "Layer (type)                 Output Shape              Param #   \n",
      "=================================================================\n",
      "conv2d_1 (Conv2D)            (None, 13, 9, 16)         160       \n",
      "_________________________________________________________________\n",
      "conv2d_2 (Conv2D)            (None, 13, 9, 32)         4640      \n",
      "_________________________________________________________________\n",
      "conv2d_3 (Conv2D)            (None, 13, 9, 64)         18496     \n",
      "_________________________________________________________________\n",
      "conv2d_4 (Conv2D)            (None, 13, 9, 128)        73856     \n",
      "_________________________________________________________________\n",
      "max_pooling2d_1 (MaxPooling2 (None, 6, 4, 128)         0         \n",
      "_________________________________________________________________\n",
      "dropout_1 (Dropout)          (None, 6, 4, 128)         0         \n",
      "_________________________________________________________________\n",
      "flatten_1 (Flatten)          (None, 3072)              0         \n",
      "_________________________________________________________________\n",
      "dense_1 (Dense)              (None, 128)               393344    \n",
      "_________________________________________________________________\n",
      "dense_2 (Dense)              (None, 64)                8256      \n",
      "_________________________________________________________________\n",
      "dense_3 (Dense)              (None, 32)                2080      \n",
      "_________________________________________________________________\n",
      "dense_4 (Dense)              (None, 1)                 33        \n",
      "=================================================================\n",
      "Total params: 500,865\n",
      "Trainable params: 500,865\n",
      "Non-trainable params: 0\n",
      "_________________________________________________________________\n"
     ]
    }
   ],
   "source": [
    "config=Config(mode='conv')\n",
    "if config.mode=='conv':\n",
    "    X, y=build_rand_feat()\n",
    "    # Save the variables\n",
    "    with open(data_path+'Randomized_data/convolution_data', 'wb') as f:\n",
    "        pickle.dump([X, y], f)\n",
    "    # Set the input shape\n",
    "    input_shape=(X.shape[1], X.shape[2], 1)\n",
    "    model=func.get_conv_model(input_shape)\n",
    "elif config.mode=='time':\n",
    "    X, y=build_rand_feat()\n",
    "    # Save the variables\n",
    "    with open(data_path+'Randomized_data/lstm_data', 'wb') as f:\n",
    "        pickle.dump([X, y], f)\n",
    "    # Set the input shape\n",
    "    input_shape=(X.shape[1], X.shape[2])\n",
    "    model=func.get_recurrent_model(input_shape)"
   ]
  },
  {
   "cell_type": "code",
   "execution_count": 13,
   "metadata": {},
   "outputs": [],
   "source": [
    "# Set the class weight since the data is imbalanced\n",
    "class_weight=compute_class_weight('balanced', classes, y)"
   ]
  },
  {
   "cell_type": "code",
   "execution_count": 16,
   "metadata": {},
   "outputs": [
    {
     "name": "stdout",
     "output_type": "stream",
     "text": [
      "WARNING:tensorflow:From /Applications/anaconda3/lib/python3.7/site-packages/tensorflow/python/ops/math_ops.py:3066: to_int32 (from tensorflow.python.ops.math_ops) is deprecated and will be removed in a future version.\n",
      "Instructions for updating:\n",
      "Use tf.cast instead.\n",
      "Epoch 1/50\n",
      "72/72 [==============================] - 1s 10ms/step - loss: 0.6789 - acc: 0.6389\n",
      "Epoch 2/50\n",
      "72/72 [==============================] - 0s 1ms/step - loss: 0.6312 - acc: 0.6944\n",
      "Epoch 3/50\n",
      "72/72 [==============================] - 0s 1ms/step - loss: 0.6104 - acc: 0.6944\n",
      "Epoch 4/50\n",
      "72/72 [==============================] - 0s 1ms/step - loss: 0.6215 - acc: 0.6944\n",
      "Epoch 5/50\n",
      "72/72 [==============================] - 0s 1ms/step - loss: 0.6228 - acc: 0.6944\n",
      "Epoch 6/50\n",
      "72/72 [==============================] - 0s 1ms/step - loss: 0.6198 - acc: 0.6944\n",
      "Epoch 7/50\n",
      "72/72 [==============================] - 0s 1ms/step - loss: 0.6158 - acc: 0.6944\n",
      "Epoch 8/50\n",
      "72/72 [==============================] - 0s 1ms/step - loss: 0.6042 - acc: 0.6944\n",
      "Epoch 9/50\n",
      "72/72 [==============================] - 0s 989us/step - loss: 0.6280 - acc: 0.6944\n",
      "Epoch 10/50\n",
      "72/72 [==============================] - 0s 1ms/step - loss: 0.6179 - acc: 0.6944\n",
      "Epoch 11/50\n",
      "72/72 [==============================] - 0s 1ms/step - loss: 0.6125 - acc: 0.6944\n",
      "Epoch 12/50\n",
      "72/72 [==============================] - 0s 1ms/step - loss: 0.6078 - acc: 0.6944\n",
      "Epoch 13/50\n",
      "72/72 [==============================] - 0s 1ms/step - loss: 0.5971 - acc: 0.6944\n",
      "Epoch 14/50\n",
      "72/72 [==============================] - 0s 1ms/step - loss: 0.5991 - acc: 0.6944\n",
      "Epoch 15/50\n",
      "72/72 [==============================] - 0s 1ms/step - loss: 0.5869 - acc: 0.6944\n",
      "Epoch 16/50\n",
      "72/72 [==============================] - 0s 1ms/step - loss: 0.5834 - acc: 0.6944\n",
      "Epoch 17/50\n",
      "72/72 [==============================] - 0s 1ms/step - loss: 0.5747 - acc: 0.6944\n",
      "Epoch 18/50\n",
      "72/72 [==============================] - 0s 1ms/step - loss: 0.5750 - acc: 0.6944\n",
      "Epoch 19/50\n",
      "72/72 [==============================] - 0s 1ms/step - loss: 0.5465 - acc: 0.6944\n",
      "Epoch 20/50\n",
      "72/72 [==============================] - 0s 1ms/step - loss: 0.5170 - acc: 0.6944\n",
      "Epoch 21/50\n",
      "72/72 [==============================] - 0s 1ms/step - loss: 0.5250 - acc: 0.8333\n",
      "Epoch 22/50\n",
      "72/72 [==============================] - 0s 1ms/step - loss: 0.4936 - acc: 0.7778\n",
      "Epoch 23/50\n",
      "72/72 [==============================] - 0s 1ms/step - loss: 0.4918 - acc: 0.7222\n",
      "Epoch 24/50\n",
      "72/72 [==============================] - 0s 1ms/step - loss: 0.5486 - acc: 0.7222\n",
      "Epoch 25/50\n",
      "72/72 [==============================] - 0s 1ms/step - loss: 0.4934 - acc: 0.8472\n",
      "Epoch 26/50\n",
      "72/72 [==============================] - 0s 1ms/step - loss: 0.4667 - acc: 0.7500\n",
      "Epoch 27/50\n",
      "72/72 [==============================] - 0s 1ms/step - loss: 0.4368 - acc: 0.8056\n",
      "Epoch 28/50\n",
      "72/72 [==============================] - 0s 1ms/step - loss: 0.4207 - acc: 0.8056\n",
      "Epoch 29/50\n",
      "72/72 [==============================] - 0s 1ms/step - loss: 0.4012 - acc: 0.8333\n",
      "Epoch 30/50\n",
      "72/72 [==============================] - 0s 1ms/step - loss: 0.4505 - acc: 0.7500\n",
      "Epoch 31/50\n",
      "72/72 [==============================] - 0s 1ms/step - loss: 0.5764 - acc: 0.6389\n",
      "Epoch 32/50\n",
      "72/72 [==============================] - 0s 1ms/step - loss: 0.4346 - acc: 0.7778\n",
      "Epoch 33/50\n",
      "72/72 [==============================] - 0s 1ms/step - loss: 0.5255 - acc: 0.6944\n",
      "Epoch 34/50\n",
      "72/72 [==============================] - 0s 1ms/step - loss: 0.5101 - acc: 0.6944\n",
      "Epoch 35/50\n",
      "72/72 [==============================] - 0s 1ms/step - loss: 0.5253 - acc: 0.7222\n",
      "Epoch 36/50\n",
      "72/72 [==============================] - 0s 1ms/step - loss: 0.5089 - acc: 0.7639\n",
      "Epoch 37/50\n",
      "72/72 [==============================] - 0s 1ms/step - loss: 0.4768 - acc: 0.7500\n",
      "Epoch 38/50\n",
      "72/72 [==============================] - 0s 1ms/step - loss: 0.4572 - acc: 0.7222\n",
      "Epoch 39/50\n",
      "72/72 [==============================] - 0s 1ms/step - loss: 0.4477 - acc: 0.7778\n",
      "Epoch 40/50\n",
      "72/72 [==============================] - 0s 1ms/step - loss: 0.4253 - acc: 0.8750\n",
      "Epoch 41/50\n",
      "72/72 [==============================] - 0s 1ms/step - loss: 0.4190 - acc: 0.7917\n",
      "Epoch 42/50\n",
      "72/72 [==============================] - 0s 1ms/step - loss: 0.3699 - acc: 0.8056\n",
      "Epoch 43/50\n",
      "72/72 [==============================] - 0s 1ms/step - loss: 0.3770 - acc: 0.8194\n",
      "Epoch 44/50\n",
      "72/72 [==============================] - 0s 1ms/step - loss: 0.3631 - acc: 0.8056\n",
      "Epoch 45/50\n",
      "72/72 [==============================] - 0s 1ms/step - loss: 0.3180 - acc: 0.8889\n",
      "Epoch 46/50\n",
      "72/72 [==============================] - 0s 1ms/step - loss: 0.3024 - acc: 0.8889\n",
      "Epoch 47/50\n",
      "72/72 [==============================] - 0s 1ms/step - loss: 0.3376 - acc: 0.8611\n",
      "Epoch 48/50\n",
      "72/72 [==============================] - 0s 1ms/step - loss: 0.3145 - acc: 0.8611\n",
      "Epoch 49/50\n",
      "72/72 [==============================] - 0s 1ms/step - loss: 0.3433 - acc: 0.8750\n",
      "Epoch 50/50\n",
      "72/72 [==============================] - 0s 1ms/step - loss: 0.3958 - acc: 0.7917\n"
     ]
    },
    {
     "data": {
      "text/plain": [
       "<keras.callbacks.History at 0x1c58ae8208>"
      ]
     },
     "execution_count": 16,
     "metadata": {},
     "output_type": "execute_result"
    }
   ],
   "source": [
    "# Fit the model\n",
    "model.fit(X, y, epochs=50, batch_size=32, class_weight=class_weight, verbose=1)\n",
    "model.save('mfccs_cnn_model.h5')\n"
   ]
  },
  {
   "cell_type": "markdown",
   "metadata": {},
   "source": [
    "### Run the LSMT model"
   ]
  },
  {
   "cell_type": "code",
   "execution_count": 12,
   "metadata": {},
   "outputs": [
    {
     "name": "stderr",
     "output_type": "stream",
     "text": [
      "100%|██████████| 72/72 [00:32<00:00,  2.21it/s]"
     ]
    },
    {
     "name": "stdout",
     "output_type": "stream",
     "text": [
      "(72, 9, 13)\n",
      "WARNING:tensorflow:From /Applications/anaconda3/lib/python3.7/site-packages/tensorflow/python/framework/op_def_library.py:263: colocate_with (from tensorflow.python.framework.ops) is deprecated and will be removed in a future version.\n",
      "Instructions for updating:\n",
      "Colocations handled automatically by placer.\n"
     ]
    },
    {
     "name": "stderr",
     "output_type": "stream",
     "text": [
      "\n"
     ]
    },
    {
     "name": "stdout",
     "output_type": "stream",
     "text": [
      "WARNING:tensorflow:From /Applications/anaconda3/lib/python3.7/site-packages/keras/backend/tensorflow_backend.py:3445: calling dropout (from tensorflow.python.ops.nn_ops) with keep_prob is deprecated and will be removed in a future version.\n",
      "Instructions for updating:\n",
      "Please use `rate` instead of `keep_prob`. Rate should be set to `rate = 1 - keep_prob`.\n",
      "_________________________________________________________________\n",
      "Layer (type)                 Output Shape              Param #   \n",
      "=================================================================\n",
      "lstm_1 (LSTM)                (None, 9, 128)            72704     \n",
      "_________________________________________________________________\n",
      "lstm_2 (LSTM)                (None, 9, 128)            131584    \n",
      "_________________________________________________________________\n",
      "dropout_1 (Dropout)          (None, 9, 128)            0         \n",
      "_________________________________________________________________\n",
      "time_distributed_1 (TimeDist (None, 9, 64)             8256      \n",
      "_________________________________________________________________\n",
      "time_distributed_2 (TimeDist (None, 9, 32)             2080      \n",
      "_________________________________________________________________\n",
      "time_distributed_3 (TimeDist (None, 9, 16)             528       \n",
      "_________________________________________________________________\n",
      "time_distributed_4 (TimeDist (None, 9, 8)              136       \n",
      "_________________________________________________________________\n",
      "flatten_1 (Flatten)          (None, 72)                0         \n",
      "_________________________________________________________________\n",
      "dense_5 (Dense)              (None, 1)                 73        \n",
      "=================================================================\n",
      "Total params: 215,361\n",
      "Trainable params: 215,361\n",
      "Non-trainable params: 0\n",
      "_________________________________________________________________\n"
     ]
    }
   ],
   "source": [
    "config=Config(mode='time')\n",
    "if config.mode=='conv':\n",
    "    X, y=build_rand_feat()\n",
    "    input_shape=(X.shape[1], X.shape[2], 1)\n",
    "    model=func.get_conv_model(input_shape)\n",
    "elif config.mode=='time':\n",
    "    X, y=build_rand_feat()\n",
    "    input_shape=(X.shape[1], X.shape[2])\n",
    "    model=func.get_recurrent_model(input_shape)"
   ]
  },
  {
   "cell_type": "code",
   "execution_count": 15,
   "metadata": {},
   "outputs": [
    {
     "name": "stdout",
     "output_type": "stream",
     "text": [
      "WARNING:tensorflow:From /Applications/anaconda3/lib/python3.7/site-packages/tensorflow/python/ops/math_ops.py:3066: to_int32 (from tensorflow.python.ops.math_ops) is deprecated and will be removed in a future version.\n",
      "Instructions for updating:\n",
      "Use tf.cast instead.\n",
      "Epoch 1/50\n",
      "72/72 [==============================] - 1s 20ms/step - loss: 0.6952 - acc: 0.3611\n",
      "Epoch 2/50\n",
      "72/72 [==============================] - 0s 704us/step - loss: 0.6913 - acc: 0.6250\n",
      "Epoch 3/50\n",
      "72/72 [==============================] - 0s 695us/step - loss: 0.6886 - acc: 0.6667\n",
      "Epoch 4/50\n",
      "72/72 [==============================] - 0s 694us/step - loss: 0.6807 - acc: 0.6667\n",
      "Epoch 5/50\n",
      "72/72 [==============================] - 0s 717us/step - loss: 0.6751 - acc: 0.6667\n",
      "Epoch 6/50\n",
      "72/72 [==============================] - 0s 716us/step - loss: 0.6684 - acc: 0.6667\n",
      "Epoch 7/50\n",
      "72/72 [==============================] - 0s 697us/step - loss: 0.6617 - acc: 0.6667\n",
      "Epoch 8/50\n",
      "72/72 [==============================] - 0s 712us/step - loss: 0.6460 - acc: 0.6667\n",
      "Epoch 9/50\n",
      "72/72 [==============================] - 0s 720us/step - loss: 0.6400 - acc: 0.6667\n",
      "Epoch 10/50\n",
      "72/72 [==============================] - 0s 696us/step - loss: 0.6396 - acc: 0.6667\n",
      "Epoch 11/50\n",
      "72/72 [==============================] - 0s 699us/step - loss: 0.6358 - acc: 0.6667\n",
      "Epoch 12/50\n",
      "72/72 [==============================] - 0s 697us/step - loss: 0.6482 - acc: 0.6667\n",
      "Epoch 13/50\n",
      "72/72 [==============================] - 0s 717us/step - loss: 0.6434 - acc: 0.6667\n",
      "Epoch 14/50\n",
      "72/72 [==============================] - 0s 709us/step - loss: 0.6420 - acc: 0.6667\n",
      "Epoch 15/50\n",
      "72/72 [==============================] - 0s 687us/step - loss: 0.6331 - acc: 0.6667\n",
      "Epoch 16/50\n",
      "72/72 [==============================] - 0s 710us/step - loss: 0.6352 - acc: 0.6667\n",
      "Epoch 17/50\n",
      "72/72 [==============================] - 0s 711us/step - loss: 0.6423 - acc: 0.6667\n",
      "Epoch 18/50\n",
      "72/72 [==============================] - 0s 695us/step - loss: 0.6371 - acc: 0.6667\n",
      "Epoch 19/50\n",
      "72/72 [==============================] - 0s 702us/step - loss: 0.6304 - acc: 0.6667\n",
      "Epoch 20/50\n",
      "72/72 [==============================] - 0s 703us/step - loss: 0.6363 - acc: 0.6667\n",
      "Epoch 21/50\n",
      "72/72 [==============================] - 0s 722us/step - loss: 0.6476 - acc: 0.6667\n",
      "Epoch 22/50\n",
      "72/72 [==============================] - 0s 698us/step - loss: 0.6460 - acc: 0.6667\n",
      "Epoch 23/50\n",
      "72/72 [==============================] - 0s 705us/step - loss: 0.6375 - acc: 0.6667\n",
      "Epoch 24/50\n",
      "72/72 [==============================] - 0s 694us/step - loss: 0.6359 - acc: 0.6667\n",
      "Epoch 25/50\n",
      "72/72 [==============================] - 0s 714us/step - loss: 0.6392 - acc: 0.6667\n",
      "Epoch 26/50\n",
      "72/72 [==============================] - 0s 700us/step - loss: 0.6340 - acc: 0.6667\n",
      "Epoch 27/50\n",
      "72/72 [==============================] - 0s 693us/step - loss: 0.6450 - acc: 0.6667\n",
      "Epoch 28/50\n",
      "72/72 [==============================] - 0s 695us/step - loss: 0.6445 - acc: 0.6667\n",
      "Epoch 29/50\n",
      "72/72 [==============================] - 0s 714us/step - loss: 0.6319 - acc: 0.6667\n",
      "Epoch 30/50\n",
      "72/72 [==============================] - 0s 688us/step - loss: 0.6350 - acc: 0.6667\n",
      "Epoch 31/50\n",
      "72/72 [==============================] - 0s 693us/step - loss: 0.6408 - acc: 0.6667\n",
      "Epoch 32/50\n",
      "72/72 [==============================] - 0s 707us/step - loss: 0.6389 - acc: 0.6667\n",
      "Epoch 33/50\n",
      "72/72 [==============================] - 0s 701us/step - loss: 0.6375 - acc: 0.6667\n",
      "Epoch 34/50\n",
      "72/72 [==============================] - 0s 699us/step - loss: 0.6346 - acc: 0.6667\n",
      "Epoch 35/50\n",
      "72/72 [==============================] - 0s 700us/step - loss: 0.6386 - acc: 0.6667\n",
      "Epoch 36/50\n",
      "72/72 [==============================] - 0s 717us/step - loss: 0.6332 - acc: 0.6667\n",
      "Epoch 37/50\n",
      "72/72 [==============================] - 0s 746us/step - loss: 0.6371 - acc: 0.6667\n",
      "Epoch 38/50\n",
      "72/72 [==============================] - 0s 695us/step - loss: 0.6427 - acc: 0.6667\n",
      "Epoch 39/50\n",
      "72/72 [==============================] - 0s 698us/step - loss: 0.6358 - acc: 0.6667\n",
      "Epoch 40/50\n",
      "72/72 [==============================] - 0s 708us/step - loss: 0.6374 - acc: 0.6667\n",
      "Epoch 41/50\n",
      "72/72 [==============================] - 0s 715us/step - loss: 0.6378 - acc: 0.6667\n",
      "Epoch 42/50\n",
      "72/72 [==============================] - 0s 700us/step - loss: 0.6351 - acc: 0.6667\n",
      "Epoch 43/50\n",
      "72/72 [==============================] - 0s 718us/step - loss: 0.6348 - acc: 0.6667\n",
      "Epoch 44/50\n",
      "72/72 [==============================] - 0s 722us/step - loss: 0.6321 - acc: 0.6667\n",
      "Epoch 45/50\n",
      "72/72 [==============================] - 0s 723us/step - loss: 0.6326 - acc: 0.6667\n",
      "Epoch 46/50\n",
      "72/72 [==============================] - 0s 708us/step - loss: 0.6333 - acc: 0.6667\n",
      "Epoch 47/50\n",
      "72/72 [==============================] - 0s 694us/step - loss: 0.6377 - acc: 0.6667\n",
      "Epoch 48/50\n",
      "72/72 [==============================] - 0s 700us/step - loss: 0.6331 - acc: 0.6667\n",
      "Epoch 49/50\n",
      "72/72 [==============================] - 0s 714us/step - loss: 0.6311 - acc: 0.6667\n",
      "Epoch 50/50\n",
      "72/72 [==============================] - 0s 698us/step - loss: 0.6321 - acc: 0.6667\n"
     ]
    },
    {
     "data": {
      "text/plain": [
       "<keras.callbacks.History at 0x1c3aced0b8>"
      ]
     },
     "execution_count": 15,
     "metadata": {},
     "output_type": "execute_result"
    }
   ],
   "source": [
    "###### Save the model\n",
    "# Fit the model\n",
    "model.fit(X, y, epochs=50, batch_size=32, class_weight=class_weight, verbose=1)\n",
    "model.save('mfcc_lstm_model.h5')"
   ]
  },
  {
   "cell_type": "markdown",
   "metadata": {},
   "source": [
    "### Connect the output of the CNN to the LSTM"
   ]
  },
  {
   "cell_type": "code",
   "execution_count": 30,
   "metadata": {},
   "outputs": [],
   "source": [
    "config=Config(mode='conv')\n",
    "if config.mode=='conv':\n",
    "    X, y=build_rand_feat()\n",
    "    input_shape=(X.shape[1], X.shape[2], 1)\n",
    "    model=get_CNN_recurrent_model(input_shape)"
   ]
  },
  {
   "cell_type": "code",
   "execution_count": 29,
   "metadata": {},
   "outputs": [],
   "source": [
    "###### Save the model\n",
    "# Fit the model\n",
    "model=method2(input_shape)\n",
    "model.fit(X, y, epochs=50, batch_size=32, class_weight=class_weight, verbose=1)\n"
   ]
  },
  {
   "cell_type": "markdown",
   "metadata": {},
   "source": [
    "### Predictions"
   ]
  },
  {
   "cell_type": "code",
   "execution_count": null,
   "metadata": {},
   "outputs": [],
   "source": []
  },
  {
   "cell_type": "markdown",
   "metadata": {},
   "source": [
    "# Using the VGGish"
   ]
  },
  {
   "cell_type": "code",
   "execution_count": 9,
   "metadata": {},
   "outputs": [
    {
     "name": "stderr",
     "output_type": "stream",
     "text": [
      "/Applications/anaconda3/lib/python3.7/site-packages/scipy/io/wavfile.py:273: WavFileWarning: Chunk (non-data) not understood, skipping it.\n",
      "  WavFileWarning)\n"
     ]
    }
   ],
   "source": [
    "# Read the csv file\n",
    "# The csv contains the audio file names and their corresponding label\n",
    "# fname and label\n",
    "df_unmasked = pd.read_csv(data_path + 'files_labels_unmasked.csv')\n",
    "# df_unmasked.set_index('fname', inplace=True)\n",
    "for f in df_unmasked.index:\n",
    "#     print(data_path + df.at[f, 'fpath'])\n",
    "    rate, signal = wavfile.read(data_path + df_unmasked.at[f, 'fpath'])\n",
    "    df_unmasked.at[f, 'length'] = signal.shape[0]/rate\n",
    "\n",
    "# Get the classes distribution\n",
    "classes=list(np.unique(df_unmasked.label))\n",
    "class_dist=df_unmasked.groupby(['label'])['length'].sum()\n",
    "\n"
   ]
  },
  {
   "cell_type": "code",
   "execution_count": 10,
   "metadata": {},
   "outputs": [
    {
     "data": {
      "text/html": [
       "<div>\n",
       "<style scoped>\n",
       "    .dataframe tbody tr th:only-of-type {\n",
       "        vertical-align: middle;\n",
       "    }\n",
       "\n",
       "    .dataframe tbody tr th {\n",
       "        vertical-align: top;\n",
       "    }\n",
       "\n",
       "    .dataframe thead th {\n",
       "        text-align: right;\n",
       "    }\n",
       "</style>\n",
       "<table border=\"1\" class=\"dataframe\">\n",
       "  <thead>\n",
       "    <tr style=\"text-align: right;\">\n",
       "      <th></th>\n",
       "      <th>vgg_done</th>\n",
       "      <th>length</th>\n",
       "    </tr>\n",
       "    <tr>\n",
       "      <th>label</th>\n",
       "      <th></th>\n",
       "      <th></th>\n",
       "    </tr>\n",
       "  </thead>\n",
       "  <tbody>\n",
       "    <tr>\n",
       "      <th>0</th>\n",
       "      <td>0.999356</td>\n",
       "      <td>39.941542</td>\n",
       "    </tr>\n",
       "    <tr>\n",
       "      <th>1</th>\n",
       "      <td>0.993902</td>\n",
       "      <td>4.676728</td>\n",
       "    </tr>\n",
       "  </tbody>\n",
       "</table>\n",
       "</div>"
      ],
      "text/plain": [
       "       vgg_done     length\n",
       "label                     \n",
       "0      0.999356  39.941542\n",
       "1      0.993902   4.676728"
      ]
     },
     "execution_count": 10,
     "metadata": {},
     "output_type": "execute_result"
    }
   ],
   "source": [
    "df_unmasked.groupby(['label']).mean()"
   ]
  },
  {
   "cell_type": "code",
   "execution_count": 5,
   "metadata": {},
   "outputs": [
    {
     "name": "stderr",
     "output_type": "stream",
     "text": [
      "/Applications/anaconda3/lib/python3.7/site-packages/scipy/io/wavfile.py:273: WavFileWarning: Chunk (non-data) not understood, skipping it.\n",
      "  WavFileWarning)\n"
     ]
    }
   ],
   "source": [
    "# Read the csv file\n",
    "# The csv contains the audio file names and their corresponding label\n",
    "# fname and label\n",
    "df_unmasked_hop_10 = pd.read_csv(data_path + 'files_labels_unmasked_hop_10.csv')\n",
    "# df_unmasked.set_index('fname', inplace=True)\n",
    "for f in df_unmasked_hop_10.index:\n",
    "#     print(data_path + df.at[f, 'fpath'])\n",
    "    rate, signal = wavfile.read(data_path + df_unmasked_hop_10.at[f, 'fpath'])\n",
    "    df_unmasked_hop_10.at[f, 'length'] = signal.shape[0]/rate\n",
    "\n",
    "# Get the classes distribution\n",
    "classes=list(np.unique(df_unmasked_hop_10.label))\n",
    "class_dist=df_unmasked_hop_10.groupby(['label'])['length'].sum()\n",
    "\n",
    "\n"
   ]
  },
  {
   "cell_type": "code",
   "execution_count": 11,
   "metadata": {},
   "outputs": [
    {
     "ename": "NameError",
     "evalue": "name 'df_unmasked_trainin' is not defined",
     "output_type": "error",
     "traceback": [
      "\u001b[0;31m---------------------------------------------------------------------------\u001b[0m",
      "\u001b[0;31mNameError\u001b[0m                                 Traceback (most recent call last)",
      "\u001b[0;32m<ipython-input-11-53618eec3971>\u001b[0m in \u001b[0;36m<module>\u001b[0;34m\u001b[0m\n\u001b[1;32m      1\u001b[0m \u001b[0;31m# print(df_unmasked.fname[295:649])\u001b[0m\u001b[0;34m\u001b[0m\u001b[0;34m\u001b[0m\u001b[0;34m\u001b[0m\u001b[0m\n\u001b[0;32m----> 2\u001b[0;31m \u001b[0mprint\u001b[0m\u001b[0;34m(\u001b[0m\u001b[0mdf_unmasked_trainin\u001b[0m\u001b[0;34m.\u001b[0m\u001b[0mshape\u001b[0m\u001b[0;34m)\u001b[0m\u001b[0;34m\u001b[0m\u001b[0;34m\u001b[0m\u001b[0m\n\u001b[0m\u001b[1;32m      3\u001b[0m \u001b[0mprint\u001b[0m\u001b[0;34m(\u001b[0m\u001b[0mdf_unmasked_unseen\u001b[0m\u001b[0;34m.\u001b[0m\u001b[0mshape\u001b[0m\u001b[0;34m)\u001b[0m\u001b[0;34m\u001b[0m\u001b[0;34m\u001b[0m\u001b[0m\n\u001b[1;32m      4\u001b[0m \u001b[0mprint\u001b[0m\u001b[0;34m(\u001b[0m\u001b[0mdf_unmasked\u001b[0m\u001b[0;34m.\u001b[0m\u001b[0mshape\u001b[0m\u001b[0;34m)\u001b[0m\u001b[0;34m\u001b[0m\u001b[0;34m\u001b[0m\u001b[0m\n\u001b[1;32m      5\u001b[0m \u001b[0mprint\u001b[0m\u001b[0;34m(\u001b[0m\u001b[0mtrain_X\u001b[0m\u001b[0;34m.\u001b[0m\u001b[0mshape\u001b[0m\u001b[0;34m,\u001b[0m \u001b[0munseen_X\u001b[0m\u001b[0;34m.\u001b[0m\u001b[0mshape\u001b[0m\u001b[0;34m)\u001b[0m\u001b[0;34m\u001b[0m\u001b[0;34m\u001b[0m\u001b[0m\n",
      "\u001b[0;31mNameError\u001b[0m: name 'df_unmasked_trainin' is not defined"
     ]
    }
   ],
   "source": [
    "# print(df_unmasked.fname[295:649])\n",
    "print(df_unmasked_trainin.shape)\n",
    "print(df_unmasked_unseen.shape)\n",
    "print(df_unmasked.shape)\n",
    "print(train_X.shape, unseen_X.shape)\n",
    "\n",
    "# print(df_unmasked_trainin.fname)"
   ]
  },
  {
   "cell_type": "code",
   "execution_count": 11,
   "metadata": {},
   "outputs": [],
   "source": [
    "# RM3: 649:1010 | RM4: 1010:1441 | RM5: 1441:1519 | RM6: 1519: |\n",
    "df_unmasked_unseen = df_unmasked[649:1010]\n",
    "# df_unmasked_trainin = df_unmasked[:1519]\n",
    "df_unmasked_trainin = pd.concat([df_unmasked[0:649], df_unmasked[1010:]])"
   ]
  },
  {
   "cell_type": "code",
   "execution_count": 258,
   "metadata": {},
   "outputs": [],
   "source": [
    "# print(df_unmasked.fname[649:1010])\n",
    "# print(df_unmasked_trainin.fname)"
   ]
  },
  {
   "cell_type": "code",
   "execution_count": 12,
   "metadata": {},
   "outputs": [
    {
     "name": "stdout",
     "output_type": "stream",
     "text": [
      "0\n"
     ]
    }
   ],
   "source": [
    "df_unmasked = df_unmasked[df_unmasked.vgg_done==1]\n",
    "df_unmasked = df_unmasked.reset_index()\n",
    "print(len(df_unmasked[df_unmasked.vgg_done==0]))"
   ]
  },
  {
   "cell_type": "code",
   "execution_count": 6,
   "metadata": {},
   "outputs": [
    {
     "name": "stdout",
     "output_type": "stream",
     "text": [
      "0\n"
     ]
    }
   ],
   "source": [
    "df_unmasked_hop_10 = df_unmasked_hop_10[df_unmasked_hop_10.vgg_done==1]\n",
    "df_unmasked_hop_10 = df_unmasked_hop_10.reset_index()\n",
    "print(len(df_unmasked_hop_10[df_unmasked_hop_10.vgg_done==0]))"
   ]
  },
  {
   "cell_type": "code",
   "execution_count": 1,
   "metadata": {},
   "outputs": [],
   "source": [
    "# Extract the vgg features (only for new files)\n",
    "# df=func.extract_vgg_features(df, data_path)\n",
    "df_unmasked_hop_10=func.extract_vgg_features_1(df_unmasked_hop_10, data_path, hop_size = 0.096)"
   ]
  },
  {
   "cell_type": "code",
   "execution_count": null,
   "metadata": {},
   "outputs": [],
   "source": []
  },
  {
   "cell_type": "code",
   "execution_count": 13,
   "metadata": {},
   "outputs": [
    {
     "name": "stdout",
     "output_type": "stream",
     "text": [
      "(1410,) (469,)\n"
     ]
    }
   ],
   "source": [
    "# Create the random files for CV\n",
    "train_X, unseen_X=func.build_rand_feat(df_unmasked)\n",
    "print(train_X.shape, unseen_X.shape)"
   ]
  },
  {
   "cell_type": "code",
   "execution_count": null,
   "metadata": {},
   "outputs": [],
   "source": []
  },
  {
   "cell_type": "code",
   "execution_count": 8,
   "metadata": {},
   "outputs": [
    {
     "name": "stdout",
     "output_type": "stream",
     "text": [
      "WARNING:tensorflow:From /Applications/anaconda3/lib/python3.7/site-packages/tensorflow/python/framework/op_def_library.py:263: colocate_with (from tensorflow.python.framework.ops) is deprecated and will be removed in a future version.\n",
      "Instructions for updating:\n",
      "Colocations handled automatically by placer.\n",
      "WARNING:tensorflow:From /Applications/anaconda3/lib/python3.7/site-packages/keras/backend/tensorflow_backend.py:3445: calling dropout (from tensorflow.python.ops.nn_ops) with keep_prob is deprecated and will be removed in a future version.\n",
      "Instructions for updating:\n",
      "Please use `rate` instead of `keep_prob`. Rate should be set to `rate = 1 - keep_prob`.\n",
      "WARNING:tensorflow:From /Applications/anaconda3/lib/python3.7/site-packages/tensorflow/python/ops/math_ops.py:3066: to_int32 (from tensorflow.python.ops.math_ops) is deprecated and will be removed in a future version.\n",
      "Instructions for updating:\n",
      "Use tf.cast instead.\n"
     ]
    }
   ],
   "source": [
    "# LSTM\n",
    "# Redirecting output to txt file\n",
    "orig_stdout = sys.stdout\n",
    "f = open(data_path + 'Model_Outputs/lstm_random_undersamp_with_weight_temporalize_step_123.txt', 'w')\n",
    "sys.stdout = f\n",
    "\n",
    "# Cross validation using the LSTM model\n",
    "cf, recall, precision, fscore = func.cross_validation('lstm', df_unmasked_hop_10, train_X, data_path,\n",
    "                                                      'lstm_random_undersamp_with_weight_temporalize_step_123', nfolds=5,\n",
    "                                                      lstm_steps=[1, 2, 3], thresholds=[0.5, 0.65, 0.75],\n",
    "                                                      rand_under_samp=True, smote_en_resamp=False,\n",
    "                                                      apply_class_weight=True)\n",
    "\n",
    "print(cf)\n",
    "print(recall)\n",
    "print(precision)\n",
    "print(fscore)\n",
    "\n",
    "print('AVG Recall: ', np.mean(recall))\n",
    "print('AVG Precision: ', np.mean(precision))\n",
    "print('AVG F1 Score: ', np.mean(fscore))\n",
    "\n",
    "sys.stdout = orig_stdout\n",
    "f.close()\n"
   ]
  },
  {
   "cell_type": "code",
   "execution_count": 262,
   "metadata": {},
   "outputs": [],
   "source": [
    "# BINARY - 1 \n",
    "# Redirecting output to txt file\n",
    "orig_stdout = sys.stdout\n",
    "f = open(data_path + 'Model_Outputs/binary_without_resampling_no_weight.txt', 'w')\n",
    "sys.stdout = f\n",
    "\n",
    "# Cross validation using the binary model\n",
    "cf_b, recall_b, precision_b, fscore_b = func.cross_validation('binary', df_unmasked, train_X, data_path,\n",
    "                                                              'binary_without_resamp_and_without_weight',\n",
    "                                                              nfolds=5, thresholds=[0.5, 0.65, 0.75],\n",
    "                                                              rand_under_samp=False, smote_en_resamp=False,\n",
    "                                                              apply_class_weight=False)\n",
    "\n",
    "\n",
    "print(cf_b)\n",
    "print(recall_b)\n",
    "print(precision_b)\n",
    "print(fscore_b)\n",
    "\n",
    "print('AVG Recall: ', np.mean(recall_b))\n",
    "print('AVG Precision: ', np.mean(precision_b))\n",
    "print('AVG F1 Score: ', np.mean(fscore_b))\n",
    "\n",
    "\n",
    "\n",
    "\n",
    "sys.stdout = orig_stdout\n",
    "f.close()\n"
   ]
  },
  {
   "cell_type": "code",
   "execution_count": 15,
   "metadata": {},
   "outputs": [],
   "source": [
    "# K-NN - 1\n",
    "\n",
    "# Redirecting output to txt file\n",
    "orig_stdout = sys.stdout\n",
    "f = open(data_path + 'Model_Outputs/knn_7_without_resampling.txt', 'w')\n",
    "sys.stdout = f\n",
    "\n",
    "# Cross validation using the binary model\n",
    "cf_b, recall_b, precision_b, fscore_b = func.cross_validation('knn', df_unmasked, train_X, data_path,\n",
    "                                                              'knn_7_without_resamp',\n",
    "                                                              nfolds=5, thresholds=[0.5, 0.65, 0.75],\n",
    "                                                              rand_under_samp=False, smote_en_resamp=False,\n",
    "                                                              apply_class_weight=False, k_neighbors=7)\n",
    "\n",
    "\n",
    "print(cf_b)\n",
    "print(recall_b)\n",
    "print(precision_b)\n",
    "print(fscore_b)\n",
    "\n",
    "print('AVG Recall: ', np.mean(recall_b))\n",
    "print('AVG Precision: ', np.mean(precision_b))\n",
    "print('AVG F1 Score: ', np.mean(fscore_b))\n",
    "\n",
    "\n",
    "\n",
    "\n",
    "sys.stdout = orig_stdout\n",
    "f.close()\n",
    "\n"
   ]
  },
  {
   "cell_type": "code",
   "execution_count": 17,
   "metadata": {},
   "outputs": [],
   "source": [
    "# K-NN - 2\n",
    "\n",
    "# Redirecting output to txt file\n",
    "orig_stdout = sys.stdout\n",
    "f = open(data_path + 'Model_Outputs/knn_7_without_resampling_with_weight.txt', 'w')\n",
    "sys.stdout = f\n",
    "\n",
    "# Cross validation using the binary model\n",
    "cf_b, recall_b, precision_b, fscore_b = func.cross_validation('knn', df_unmasked, train_X, data_path,\n",
    "                                                              'knn_7_without_resamp_with_weight',\n",
    "                                                              nfolds=5, thresholds=[0.5, 0.65, 0.75],\n",
    "                                                              rand_under_samp=False, smote_en_resamp=False,\n",
    "                                                              apply_class_weight=True, k_neighbors=7)\n",
    "\n",
    "\n",
    "print(cf_b)\n",
    "print(recall_b)\n",
    "print(precision_b)\n",
    "print(fscore_b)\n",
    "\n",
    "print('AVG Recall: ', np.mean(recall_b))\n",
    "print('AVG Precision: ', np.mean(precision_b))\n",
    "print('AVG F1 Score: ', np.mean(fscore_b))\n",
    "\n",
    "\n",
    "\n",
    "\n",
    "sys.stdout = orig_stdout\n",
    "f.close()\n",
    "\n",
    "\n",
    "\n"
   ]
  },
  {
   "cell_type": "code",
   "execution_count": 18,
   "metadata": {},
   "outputs": [],
   "source": [
    "# K-NN - 3\n",
    "\n",
    "# Redirecting output to txt file\n",
    "orig_stdout = sys.stdout\n",
    "f = open(data_path + 'Model_Outputs/knn_7_SMOTE_with_weight.txt', 'w')\n",
    "sys.stdout = f\n",
    "\n",
    "# Cross validation using the binary model\n",
    "cf_b, recall_b, precision_b, fscore_b = func.cross_validation('knn', df_unmasked, train_X, data_path,\n",
    "                                                              'knn_7_SMOTE_with_weight',\n",
    "                                                              nfolds=5, thresholds=[0.5, 0.65, 0.75],\n",
    "                                                              rand_under_samp=False, smote_en_resamp=True,\n",
    "                                                              apply_class_weight=True, k_neighbors=7)\n",
    "\n",
    "\n",
    "print(cf_b)\n",
    "print(recall_b)\n",
    "print(precision_b)\n",
    "print(fscore_b)\n",
    "\n",
    "print('AVG Recall: ', np.mean(recall_b))\n",
    "print('AVG Precision: ', np.mean(precision_b))\n",
    "print('AVG F1 Score: ', np.mean(fscore_b))\n",
    "\n",
    "\n",
    "\n",
    "\n",
    "sys.stdout = orig_stdout\n",
    "f.close()\n",
    "\n",
    "\n",
    "\n",
    "\n"
   ]
  },
  {
   "cell_type": "code",
   "execution_count": 19,
   "metadata": {},
   "outputs": [],
   "source": [
    "# K-NN - 4\n",
    "\n",
    "# Redirecting output to txt file\n",
    "orig_stdout = sys.stdout\n",
    "f = open(data_path + 'Model_Outputs/knn_5_without_resampling.txt', 'w')\n",
    "sys.stdout = f\n",
    "\n",
    "# Cross validation using the binary model\n",
    "cf_b, recall_b, precision_b, fscore_b = func.cross_validation('knn', df_unmasked, train_X, data_path,\n",
    "                                                              'knn_5_without_resamp',\n",
    "                                                              nfolds=5, thresholds=[0.5, 0.65, 0.75],\n",
    "                                                              rand_under_samp=False, smote_en_resamp=False,\n",
    "                                                              apply_class_weight=False, k_neighbors=5)\n",
    "\n",
    "\n",
    "print(cf_b)\n",
    "print(recall_b)\n",
    "print(precision_b)\n",
    "print(fscore_b)\n",
    "\n",
    "print('AVG Recall: ', np.mean(recall_b))\n",
    "print('AVG Precision: ', np.mean(precision_b))\n",
    "print('AVG F1 Score: ', np.mean(fscore_b))\n",
    "\n",
    "\n",
    "\n",
    "\n",
    "sys.stdout = orig_stdout\n",
    "f.close()\n",
    "\n",
    "\n"
   ]
  },
  {
   "cell_type": "code",
   "execution_count": 20,
   "metadata": {},
   "outputs": [],
   "source": [
    "# K-NN - 5\n",
    "\n",
    "# Redirecting output to txt file\n",
    "orig_stdout = sys.stdout\n",
    "f = open(data_path + 'Model_Outputs/knn_5_without_resampling_with_weight.txt', 'w')\n",
    "sys.stdout = f\n",
    "\n",
    "# Cross validation using the binary model\n",
    "cf_b, recall_b, precision_b, fscore_b = func.cross_validation('knn', df_unmasked, train_X, data_path,\n",
    "                                                              'knn_5_without_resamp_with_weight',\n",
    "                                                              nfolds=5, thresholds=[0.5, 0.65, 0.75],\n",
    "                                                              rand_under_samp=False, smote_en_resamp=False,\n",
    "                                                              apply_class_weight=True, k_neighbors=5)\n",
    "\n",
    "\n",
    "print(cf_b)\n",
    "print(recall_b)\n",
    "print(precision_b)\n",
    "print(fscore_b)\n",
    "\n",
    "print('AVG Recall: ', np.mean(recall_b))\n",
    "print('AVG Precision: ', np.mean(precision_b))\n",
    "print('AVG F1 Score: ', np.mean(fscore_b))\n",
    "\n",
    "\n",
    "\n",
    "\n",
    "sys.stdout = orig_stdout\n",
    "f.close()\n",
    "\n",
    "\n",
    "\n",
    "\n"
   ]
  },
  {
   "cell_type": "code",
   "execution_count": 21,
   "metadata": {},
   "outputs": [],
   "source": [
    "# K-NN - 6\n",
    "\n",
    "# Redirecting output to txt file\n",
    "orig_stdout = sys.stdout\n",
    "f = open(data_path + 'Model_Outputs/knn_5_SMOTE_with_weight.txt', 'w')\n",
    "sys.stdout = f\n",
    "\n",
    "# Cross validation using the binary model\n",
    "cf_b, recall_b, precision_b, fscore_b = func.cross_validation('knn', df_unmasked, train_X, data_path,\n",
    "                                                              'knn_5_SMOTE_with_weight',\n",
    "                                                              nfolds=5, thresholds=[0.5, 0.65, 0.75],\n",
    "                                                              rand_under_samp=False, smote_en_resamp=True,\n",
    "                                                              apply_class_weight=True, k_neighbors=5)\n",
    "\n",
    "\n",
    "print(cf_b)\n",
    "print(recall_b)\n",
    "print(precision_b)\n",
    "print(fscore_b)\n",
    "\n",
    "print('AVG Recall: ', np.mean(recall_b))\n",
    "print('AVG Precision: ', np.mean(precision_b))\n",
    "print('AVG F1 Score: ', np.mean(fscore_b))\n",
    "\n",
    "\n",
    "\n",
    "\n",
    "sys.stdout = orig_stdout\n",
    "f.close()\n",
    "\n",
    "\n",
    "\n",
    "\n",
    "\n"
   ]
  },
  {
   "cell_type": "code",
   "execution_count": 22,
   "metadata": {},
   "outputs": [],
   "source": [
    "# K-NN - 7\n",
    "\n",
    "# Redirecting output to txt file\n",
    "orig_stdout = sys.stdout\n",
    "f = open(data_path + 'Model_Outputs/knn_3_without_resampling.txt', 'w')\n",
    "sys.stdout = f\n",
    "\n",
    "# Cross validation using the binary model\n",
    "cf_b, recall_b, precision_b, fscore_b = func.cross_validation('knn', df_unmasked, train_X, data_path,\n",
    "                                                              'knn_3_without_resamp',\n",
    "                                                              nfolds=5, thresholds=[0.5, 0.65, 0.75],\n",
    "                                                              rand_under_samp=False, smote_en_resamp=False,\n",
    "                                                              apply_class_weight=False, k_neighbors=3)\n",
    "\n",
    "\n",
    "print(cf_b)\n",
    "print(recall_b)\n",
    "print(precision_b)\n",
    "print(fscore_b)\n",
    "\n",
    "print('AVG Recall: ', np.mean(recall_b))\n",
    "print('AVG Precision: ', np.mean(precision_b))\n",
    "print('AVG F1 Score: ', np.mean(fscore_b))\n",
    "\n",
    "\n",
    "\n",
    "\n",
    "sys.stdout = orig_stdout\n",
    "f.close()\n",
    "\n",
    "\n",
    "\n"
   ]
  },
  {
   "cell_type": "code",
   "execution_count": 23,
   "metadata": {},
   "outputs": [],
   "source": [
    "# K-NN - 8\n",
    "\n",
    "# Redirecting output to txt file\n",
    "orig_stdout = sys.stdout\n",
    "f = open(data_path + 'Model_Outputs/knn_3_without_resampling_with_weight.txt', 'w')\n",
    "sys.stdout = f\n",
    "\n",
    "# Cross validation using the binary model\n",
    "cf_b, recall_b, precision_b, fscore_b = func.cross_validation('knn', df_unmasked, train_X, data_path,\n",
    "                                                              'knn_3_without_resamp_with_weight',\n",
    "                                                              nfolds=5, thresholds=[0.5, 0.65, 0.75],\n",
    "                                                              rand_under_samp=False, smote_en_resamp=False,\n",
    "                                                              apply_class_weight=True, k_neighbors=3)\n",
    "\n",
    "\n",
    "print(cf_b)\n",
    "print(recall_b)\n",
    "print(precision_b)\n",
    "print(fscore_b)\n",
    "\n",
    "print('AVG Recall: ', np.mean(recall_b))\n",
    "print('AVG Precision: ', np.mean(precision_b))\n",
    "print('AVG F1 Score: ', np.mean(fscore_b))\n",
    "\n",
    "\n",
    "\n",
    "\n",
    "sys.stdout = orig_stdout\n",
    "f.close()\n",
    "\n",
    "\n",
    "\n",
    "\n",
    "\n"
   ]
  },
  {
   "cell_type": "code",
   "execution_count": 24,
   "metadata": {},
   "outputs": [],
   "source": [
    "# K-NN - 9\n",
    "\n",
    "# Redirecting output to txt file\n",
    "orig_stdout = sys.stdout\n",
    "f = open(data_path + 'Model_Outputs/knn_3_SMOTE_with_weight.txt', 'w')\n",
    "sys.stdout = f\n",
    "\n",
    "# Cross validation using the binary model\n",
    "cf_b, recall_b, precision_b, fscore_b = func.cross_validation('knn', df_unmasked, train_X, data_path,\n",
    "                                                              'knn_3_SMOTE_with_weight',\n",
    "                                                              nfolds=5, thresholds=[0.5, 0.65, 0.75],\n",
    "                                                              rand_under_samp=False, smote_en_resamp=True,\n",
    "                                                              apply_class_weight=True, k_neighbors=3)\n",
    "\n",
    "\n",
    "print(cf_b)\n",
    "print(recall_b)\n",
    "print(precision_b)\n",
    "print(fscore_b)\n",
    "\n",
    "print('AVG Recall: ', np.mean(recall_b))\n",
    "print('AVG Precision: ', np.mean(precision_b))\n",
    "print('AVG F1 Score: ', np.mean(fscore_b))\n",
    "\n",
    "\n",
    "\n",
    "\n",
    "sys.stdout = orig_stdout\n",
    "f.close()\n",
    "\n",
    "\n",
    "\n",
    "\n",
    "\n",
    "\n"
   ]
  },
  {
   "cell_type": "code",
   "execution_count": 31,
   "metadata": {},
   "outputs": [],
   "source": [
    "# K-NN - 10\n",
    "\n",
    "# Redirecting output to txt file\n",
    "orig_stdout = sys.stdout\n",
    "f = open(data_path + 'Model_Outputs/knn_10_without_resampling_with_weight.txt', 'w')\n",
    "sys.stdout = f\n",
    "\n",
    "# Cross validation using the binary model\n",
    "cf_b, recall_b, precision_b, fscore_b = func.cross_validation('knn', df_unmasked, train_X, data_path,\n",
    "                                                              'knn_10_without_resamp_with_weight',\n",
    "                                                              nfolds=5, thresholds=[0.75],\n",
    "                                                              rand_under_samp=False, smote_en_resamp=False,\n",
    "                                                              apply_class_weight=True, k_neighbors=10)\n",
    "\n",
    "\n",
    "print(cf_b)\n",
    "print(recall_b)\n",
    "print(precision_b)\n",
    "print(fscore_b)\n",
    "\n",
    "print('AVG Recall: ', np.mean(recall_b))\n",
    "print('AVG Precision: ', np.mean(precision_b))\n",
    "print('AVG F1 Score: ', np.mean(fscore_b))\n",
    "\n",
    "\n",
    "\n",
    "\n",
    "sys.stdout = orig_stdout\n",
    "f.close()\n",
    "\n",
    "\n",
    "\n",
    "\n",
    "\n",
    "\n"
   ]
  },
  {
   "cell_type": "code",
   "execution_count": null,
   "metadata": {},
   "outputs": [],
   "source": []
  },
  {
   "cell_type": "code",
   "execution_count": 25,
   "metadata": {},
   "outputs": [
    {
     "name": "stderr",
     "output_type": "stream",
     "text": [
      "/Applications/anaconda3/lib/python3.7/site-packages/sklearn/metrics/classification.py:1437: UndefinedMetricWarning: Precision is ill-defined and being set to 0.0 due to no predicted samples.\n",
      "  'precision', 'predicted', average, warn_for)\n",
      "/Applications/anaconda3/lib/python3.7/site-packages/sklearn/metrics/classification.py:1437: UndefinedMetricWarning: F-score is ill-defined and being set to 0.0 due to no predicted samples.\n",
      "  'precision', 'predicted', average, warn_for)\n"
     ]
    }
   ],
   "source": [
    "# BINARY - 1 \n",
    "# Redirecting output to txt file\n",
    "orig_stdout = sys.stdout\n",
    "f = open(data_path + 'Model_Outputs/binary_without_resampling_no_weight.txt', 'w')\n",
    "sys.stdout = f\n",
    "\n",
    "# Cross validation using the binary model\n",
    "cf_b, recall_b, precision_b, fscore_b = func.cross_validation('binary', df_unmasked, train_X, data_path,\n",
    "                                                              'binary_without_resamp_and_without_weight',\n",
    "                                                              nfolds=5, thresholds=[0.5, 0.65, 0.75],\n",
    "                                                              rand_under_samp=False, smote_en_resamp=False,\n",
    "                                                              apply_class_weight=False)\n",
    "\n",
    "\n",
    "print(cf_b)\n",
    "print(recall_b)\n",
    "print(precision_b)\n",
    "print(fscore_b)\n",
    "\n",
    "print('AVG Recall: ', np.mean(recall_b))\n",
    "print('AVG Precision: ', np.mean(precision_b))\n",
    "print('AVG F1 Score: ', np.mean(fscore_b))\n",
    "\n",
    "\n",
    "\n",
    "\n",
    "sys.stdout = orig_stdout\n",
    "f.close()\n",
    "\n"
   ]
  },
  {
   "cell_type": "code",
   "execution_count": 26,
   "metadata": {},
   "outputs": [],
   "source": [
    "# BINARY - 2\n",
    "# Redirecting output to txt file\n",
    "orig_stdout = sys.stdout\n",
    "f = open(data_path + 'Model_Outputs/binary_without_resampling_with_weight.txt', 'w')\n",
    "sys.stdout = f\n",
    "\n",
    "# Cross validation using the binary model\n",
    "cf_b, recall_b, precision_b, fscore_b = func.cross_validation('binary', df_unmasked, train_X, data_path,\n",
    "                                                              'binary_without_resamp_with_weight',\n",
    "                                                              nfolds=5, thresholds=[0.5, 0.65, 0.75],\n",
    "                                                              rand_under_samp=False, smote_en_resamp=False,\n",
    "                                                              apply_class_weight=True)\n",
    "\n",
    "\n",
    "print(cf_b)\n",
    "print(recall_b)\n",
    "print(precision_b)\n",
    "print(fscore_b)\n",
    "\n",
    "print('AVG Recall: ', np.mean(recall_b))\n",
    "print('AVG Precision: ', np.mean(precision_b))\n",
    "print('AVG F1 Score: ', np.mean(fscore_b))\n",
    "\n",
    "\n",
    "\n",
    "\n",
    "sys.stdout = orig_stdout\n",
    "f.close()\n",
    "\n"
   ]
  },
  {
   "cell_type": "code",
   "execution_count": 27,
   "metadata": {},
   "outputs": [],
   "source": [
    "# BINARY - 3\n",
    "# Redirecting output to txt file\n",
    "orig_stdout = sys.stdout\n",
    "f = open(data_path + 'Model_Outputs/binary_SMOTE_with_weight.txt', 'w')\n",
    "sys.stdout = f\n",
    "\n",
    "# Cross validation using the binary model\n",
    "cf_b, recall_b, precision_b, fscore_b = func.cross_validation('binary', df_unmasked, train_X, data_path,\n",
    "                                                              'binary_SMOTE_with_weight',\n",
    "                                                              nfolds=5, thresholds=[0.5, 0.65, 0.75],\n",
    "                                                              rand_under_samp=False, smote_en_resamp=True,\n",
    "                                                              apply_class_weight=True)\n",
    "\n",
    "\n",
    "print(cf_b)\n",
    "print(recall_b)\n",
    "print(precision_b)\n",
    "print(fscore_b)\n",
    "\n",
    "print('AVG Recall: ', np.mean(recall_b))\n",
    "print('AVG Precision: ', np.mean(precision_b))\n",
    "print('AVG F1 Score: ', np.mean(fscore_b))\n",
    "\n",
    "\n",
    "\n",
    "\n",
    "sys.stdout = orig_stdout\n",
    "f.close()\n",
    "\n"
   ]
  },
  {
   "cell_type": "code",
   "execution_count": 28,
   "metadata": {},
   "outputs": [],
   "source": [
    "# BINARY - 4\n",
    "# Redirecting output to txt file\n",
    "orig_stdout = sys.stdout\n",
    "f = open(data_path + 'Model_Outputs/binary_with_resampling_with_weight.txt', 'w')\n",
    "sys.stdout = f\n",
    "\n",
    "# Cross validation using the binary model\n",
    "cf_b, recall_b, precision_b, fscore_b = func.cross_validation('binary', df_unmasked, train_X, data_path,\n",
    "                                                              'binary_with_resamp_with_weight',\n",
    "                                                              nfolds=5, thresholds=[0.5, 0.65, 0.75],\n",
    "                                                              rand_under_samp=True, smote_en_resamp=True,\n",
    "                                                              apply_class_weight=True)\n",
    "\n",
    "\n",
    "print(cf_b)\n",
    "print(recall_b)\n",
    "print(precision_b)\n",
    "print(fscore_b)\n",
    "\n",
    "print('AVG Recall: ', np.mean(recall_b))\n",
    "print('AVG Precision: ', np.mean(precision_b))\n",
    "print('AVG F1 Score: ', np.mean(fscore_b))\n",
    "\n",
    "\n",
    "\n",
    "\n",
    "sys.stdout = orig_stdout\n",
    "f.close()\n",
    "\n"
   ]
  },
  {
   "cell_type": "code",
   "execution_count": 29,
   "metadata": {},
   "outputs": [],
   "source": [
    "# BINARY - 5\n",
    "# Redirecting output to txt file\n",
    "orig_stdout = sys.stdout\n",
    "f = open(data_path + 'Model_Outputs/binary_with_resampling_with_weight_smote7.txt', 'w')\n",
    "sys.stdout = f\n",
    "\n",
    "# Cross validation using the binary model\n",
    "cf_b, recall_b, precision_b, fscore_b = func.cross_validation('binary', df_unmasked, train_X, data_path,\n",
    "                                                              'binary_with_resamp_with_weight_smote7',\n",
    "                                                              nfolds=5, thresholds=[0.5, 0.65, 0.75],\n",
    "                                                              rand_under_samp=True, smote_en_resamp=True,\n",
    "                                                              smote_en_neighbors=7,\n",
    "                                                              apply_class_weight=True)\n",
    "\n",
    "\n",
    "print(cf_b)\n",
    "print(recall_b)\n",
    "print(precision_b)\n",
    "print(fscore_b)\n",
    "\n",
    "print('AVG Recall: ', np.mean(recall_b))\n",
    "print('AVG Precision: ', np.mean(precision_b))\n",
    "print('AVG F1 Score: ', np.mean(fscore_b))\n",
    "\n",
    "\n",
    "\n",
    "\n",
    "sys.stdout = orig_stdout\n",
    "f.close()\n",
    "\n",
    "\n"
   ]
  },
  {
   "cell_type": "code",
   "execution_count": 30,
   "metadata": {},
   "outputs": [],
   "source": [
    "# BINARY - 6\n",
    "# Redirecting output to txt file\n",
    "orig_stdout = sys.stdout\n",
    "f = open(data_path + 'Model_Outputs/binary_with_resampling_with_weight_smote3.txt', 'w')\n",
    "sys.stdout = f\n",
    "\n",
    "# Cross validation using the binary model\n",
    "cf_b, recall_b, precision_b, fscore_b = func.cross_validation('binary', df_unmasked, train_X, data_path,\n",
    "                                                              'binary_with_resamp_with_weight_smote3',\n",
    "                                                              nfolds=5, thresholds=[0.5, 0.65, 0.75],\n",
    "                                                              rand_under_samp=True, smote_en_resamp=True,\n",
    "                                                              smote_en_neighbors=3,\n",
    "                                                              apply_class_weight=True)\n",
    "\n",
    "\n",
    "print(cf_b)\n",
    "print(recall_b)\n",
    "print(precision_b)\n",
    "print(fscore_b)\n",
    "\n",
    "print('AVG Recall: ', np.mean(recall_b))\n",
    "print('AVG Precision: ', np.mean(precision_b))\n",
    "print('AVG F1 Score: ', np.mean(fscore_b))\n",
    "\n",
    "\n",
    "\n",
    "\n",
    "sys.stdout = orig_stdout\n",
    "f.close()\n",
    "\n",
    "\n",
    "\n"
   ]
  },
  {
   "cell_type": "code",
   "execution_count": 32,
   "metadata": {},
   "outputs": [],
   "source": [
    "# BINARY - 7\n",
    "# Redirecting output to txt file\n",
    "orig_stdout = sys.stdout\n",
    "f = open(data_path + 'Model_Outputs/binary_without_resampling_with_weight_75thr.txt', 'w')\n",
    "sys.stdout = f\n",
    "\n",
    "# Cross validation using the binary model\n",
    "cf_b, recall_b, precision_b, fscore_b = func.cross_validation('binary', df_unmasked, train_X, data_path,\n",
    "                                                              'binary_without_resamp_with_weight',\n",
    "                                                              nfolds=5, thresholds=[0.75],\n",
    "                                                              rand_under_samp=False, smote_en_resamp=False,\n",
    "                                                              apply_class_weight=True)\n",
    "\n",
    "\n",
    "print(cf_b)\n",
    "print(recall_b)\n",
    "print(precision_b)\n",
    "print(fscore_b)\n",
    "\n",
    "print('AVG Recall: ', np.mean(recall_b))\n",
    "print('AVG Precision: ', np.mean(precision_b))\n",
    "print('AVG F1 Score: ', np.mean(fscore_b))\n",
    "\n",
    "\n",
    "\n",
    "\n",
    "sys.stdout = orig_stdout\n",
    "f.close()\n",
    "\n",
    "\n"
   ]
  },
  {
   "cell_type": "code",
   "execution_count": null,
   "metadata": {},
   "outputs": [],
   "source": []
  },
  {
   "cell_type": "code",
   "execution_count": null,
   "metadata": {},
   "outputs": [],
   "source": []
  },
  {
   "cell_type": "code",
   "execution_count": 40,
   "metadata": {},
   "outputs": [],
   "source": [
    "# Testing the add_gaussian_noise\n",
    "func.add_gaussian_noise(data_path, df)"
   ]
  },
  {
   "cell_type": "code",
   "execution_count": 45,
   "metadata": {},
   "outputs": [],
   "source": [
    "# Testing the time_stretch\n",
    "func.time_stretch(data_path, df)"
   ]
  },
  {
   "cell_type": "code",
   "execution_count": 44,
   "metadata": {},
   "outputs": [],
   "source": [
    "# Testing the pitch_shift\n",
    "func.pitch_shift(data_path, df)"
   ]
  },
  {
   "cell_type": "code",
   "execution_count": 43,
   "metadata": {},
   "outputs": [],
   "source": [
    "# Testing the shift\n",
    "func.shift(data_path, df)"
   ]
  },
  {
   "cell_type": "code",
   "execution_count": null,
   "metadata": {},
   "outputs": [],
   "source": []
  },
  {
   "cell_type": "code",
   "execution_count": null,
   "metadata": {},
   "outputs": [],
   "source": []
  },
  {
   "cell_type": "code",
   "execution_count": 50,
   "metadata": {},
   "outputs": [],
   "source": [
    "def extract_vgg_features_folder(path):\n",
    "    # Iterate through the files\n",
    "    for file in os.listdir(path):\n",
    "        if file.endswith(\".wav\"):\n",
    "            try:\n",
    "                vgg_graph = tf.Graph()\n",
    "                with vgg_graph.as_default():\n",
    "                    session_vgg = tf.Session()\n",
    "                    with session_vgg.as_default():\n",
    "                        vgg_net = vgg.CreateVGGishNetwork(session_vgg)\n",
    "                        vgg_mfcc, _ = vgg.ProcessWithVGGish(session_vgg, vgg_net, path + file)\n",
    "                        # Save the vgg features locally on machine\n",
    "                        with open(path + 'VGG/' + file, 'wb') as f:\n",
    "                            pickle.dump(vgg_mfcc, f)\n",
    "            except:\n",
    "                print('Failure')"
   ]
  },
  {
   "cell_type": "code",
   "execution_count": 51,
   "metadata": {},
   "outputs": [],
   "source": [
    "# Extract the VGG features of the augmented data\n",
    "extract_vgg_features_folder(data_path + 'Augmented/')"
   ]
  },
  {
   "cell_type": "code",
   "execution_count": 52,
   "metadata": {},
   "outputs": [],
   "source": [
    "# Testing the Augmented data with a binary classifier without resampling and no weight\n",
    "\n",
    "# Redirecting output to txt file\n",
    "orig_stdout = sys.stdout\n",
    "f = open(data_path + 'Model_Outputs/binary_augment_no_resampling_with_weight.txt', 'w')\n",
    "sys.stdout = f\n",
    "\n",
    "# Cross validation using the binary model\n",
    "cf_b, recall_b, precision_b, fscore_b = func.cross_validation('binary', df, train_X, data_path,\n",
    "                                                              'binary_augment_no_resampling_with_weight',\n",
    "                                                              nfolds=5, thresholds=[0.75],\n",
    "                                                              rand_under_samp=False, smote_en_resamp=False,\n",
    "                                                              apply_class_weight=True, include_augmented=True)\n",
    "\n",
    "\n",
    "print(cf_b)\n",
    "print(recall_b)\n",
    "print(precision_b)\n",
    "print(fscore_b)\n",
    "\n",
    "print('AVG Recall: ', np.mean(recall_b))\n",
    "print('AVG Precision: ', np.mean(precision_b))\n",
    "print('AVG F1 Score: ', np.mean(fscore_b))\n",
    "\n",
    "\n",
    "\n",
    "\n",
    "sys.stdout = orig_stdout\n",
    "f.close()\n",
    "\n"
   ]
  },
  {
   "cell_type": "code",
   "execution_count": 12,
   "metadata": {},
   "outputs": [
    {
     "name": "stdout",
     "output_type": "stream",
     "text": [
      "[[11592    15]\n",
      " [  147   189]]\n",
      "TPR:  0.5625\n",
      "Precision:  0.9264705882352942\n",
      "F1 score:  0.7\n"
     ]
    }
   ],
   "source": [
    "# Model validation on unseen data\n",
    "# model_name = 'testing_cf_func_binary_no_resamp_no_weight_CV2.h5'\n",
    "# model_name = 'binary_without_resamp_and_with_weight_CV3.h5'\n",
    "model_name = 'binary_without_resamp_and_without_weight_rm3_CV4.h5'\n",
    "\n",
    "\n",
    "func.predic_unseen(model_name, df_unmasked, df_unmasked_unseen.reset_index().fname, data_path, threshold=0.75)\n",
    "\n",
    "\n",
    "\n"
   ]
  },
  {
   "cell_type": "code",
   "execution_count": 32,
   "metadata": {},
   "outputs": [
    {
     "data": {
      "text/plain": [
       "'2_HGSM3AC_0+1_20160309_055600-06.wav'"
      ]
     },
     "execution_count": 32,
     "metadata": {},
     "output_type": "execute_result"
    }
   ],
   "source": [
    "# df_unmasked[df_unmasked.fname == df_unmasked_unseen.fname[1]].fname.iloc[0]\n",
    "df_unmasked_unseen_mat = df_unmasked_unseen.reset_index()\n",
    "df_unmasked_unseen_mat.fname[5]"
   ]
  },
  {
   "cell_type": "code",
   "execution_count": 11,
   "metadata": {},
   "outputs": [],
   "source": [
    "# default_print = sys.stdout\n",
    "# sys.stdout = default_print\n",
    "\n",
    "# orig_stdout\n",
    "sys.stdout = orig_stdout\n"
   ]
  },
  {
   "cell_type": "code",
   "execution_count": null,
   "metadata": {},
   "outputs": [],
   "source": []
  },
  {
   "cell_type": "code",
   "execution_count": 52,
   "metadata": {},
   "outputs": [
    {
     "data": {
      "text/plain": [
       "'1_HGSM3A_0+1_20160304_060000-10.wav'"
      ]
     },
     "execution_count": 52,
     "metadata": {},
     "output_type": "execute_result"
    }
   ],
   "source": [
    "df[df.fname==train_X[1+0]].fname.iloc[0]"
   ]
  },
  {
   "cell_type": "code",
   "execution_count": 57,
   "metadata": {},
   "outputs": [
    {
     "data": {
      "text/plain": [
       "0"
      ]
     },
     "execution_count": 57,
     "metadata": {},
     "output_type": "execute_result"
    }
   ],
   "source": [
    "df[df.fname==train_X[8]].label.iloc[0]"
   ]
  },
  {
   "cell_type": "code",
   "execution_count": 59,
   "metadata": {},
   "outputs": [
    {
     "name": "stdout",
     "output_type": "stream",
     "text": [
      "60\n"
     ]
    }
   ],
   "source": [
    "\n",
    "summ = 0\n",
    "for i in range(2, 19):\n",
    "    test_x_data=pickle.load(open(data_path+'/VGG/' + '1_HGSM3A_0+1_20160304_060000-'+\"{:02d}\".format(i)+'.wav', 'rb'))\n",
    "    summ = summ + test_x_data.shape[0]\n",
    "    \n",
    "print(summ)\n",
    "    "
   ]
  },
  {
   "cell_type": "code",
   "execution_count": 83,
   "metadata": {},
   "outputs": [],
   "source": [
    "\n",
    "from scipy.io import wavfile\n",
    "import matplotlib.pyplot as plt\n",
    "from sklearn.metrics import recall_score, confusion_matrix, precision_score, f1_score\n",
    "from sklearn.utils.class_weight import compute_class_weight\n",
    "from keras.models import load_model\n",
    "import keras_metrics as km\n",
    "    \n",
    "dependencies = {\n",
    "    'binary_precision': km.binary_precision(),\n",
    "    'binary_recall': km.binary_recall()\n",
    "    \n",
    "}\n",
    "\n",
    "# test_x_data=pickle.load(open(data_path+'/VGG/' + '1_HGSM3A_0+1_20160304_060000-02.wav', 'rb'))\n",
    "# test_x_data=pickle.load(open(data_path+'/Augmented/VGG/' + 'TimeStretch_002_1_HGSM3A_0+1_20160304_060000-17.wav', 'rb'))\n",
    "test_x_data=pickle.load(open('../../../../../../Desktop/dfs01.wav', 'rb'))\n",
    "# model = load_model(data_path + 'Models/testing_cf_func_binary_CV0.h5', custom_objects=dependencies)\n",
    "y_pred = model.predict(test_x_data)\n",
    "y_pred_th = (y_pred > 0.5)\n",
    "\n"
   ]
  },
  {
   "cell_type": "code",
   "execution_count": 84,
   "metadata": {},
   "outputs": [
    {
     "name": "stdout",
     "output_type": "stream",
     "text": [
      "[[0 0]\n",
      " [4 0]]\n",
      "TPR:  0.0\n",
      "Precision:  0.0\n",
      "F1 score:  0.0\n"
     ]
    },
    {
     "name": "stderr",
     "output_type": "stream",
     "text": [
      "/Applications/anaconda3/lib/python3.7/site-packages/sklearn/metrics/classification.py:1437: UndefinedMetricWarning: Precision is ill-defined and being set to 0.0 due to no predicted samples.\n",
      "  'precision', 'predicted', average, warn_for)\n",
      "/Applications/anaconda3/lib/python3.7/site-packages/sklearn/metrics/classification.py:1437: UndefinedMetricWarning: F-score is ill-defined and being set to 0.0 due to no predicted samples.\n",
      "  'precision', 'predicted', average, warn_for)\n"
     ]
    }
   ],
   "source": [
    "\n",
    "\n",
    "# Confusion matrix\n",
    "cm_test = confusion_matrix(np.repeat(1, len(test_x_data)), y_pred_th)\n",
    "print(cm_test)\n",
    "\n",
    "# Recall\n",
    "tpr_test = recall_score(np.repeat(1, len(test_x_data)), y_pred_th)\n",
    "print('TPR: ', tpr_test)\n",
    "\n",
    "# Precision\n",
    "precision_test = precision_score(np.repeat(1, len(test_x_data)), y_pred_th)\n",
    "print('Precision: ', precision_test)\n",
    "\n",
    "# F1 score\n",
    "fscore_test = f1_score(np.repeat(1, len(test_x_data)), y_pred_th)\n",
    "print('F1 score: ', fscore_test)\n"
   ]
  },
  {
   "cell_type": "code",
   "execution_count": 86,
   "metadata": {},
   "outputs": [
    {
     "data": {
      "text/plain": [
       "array([[False],\n",
       "       [False],\n",
       "       [False],\n",
       "       [False]])"
      ]
     },
     "execution_count": 86,
     "metadata": {},
     "output_type": "execute_result"
    }
   ],
   "source": [
    "y_pred_th"
   ]
  },
  {
   "cell_type": "code",
   "execution_count": null,
   "metadata": {},
   "outputs": [],
   "source": []
  },
  {
   "cell_type": "code",
   "execution_count": 16,
   "metadata": {},
   "outputs": [
    {
     "name": "stdout",
     "output_type": "stream",
     "text": [
      "553\n"
     ]
    }
   ],
   "source": [
    "print(len(train_X))"
   ]
  },
  {
   "cell_type": "code",
   "execution_count": 82,
   "metadata": {},
   "outputs": [
    {
     "name": "stdout",
     "output_type": "stream",
     "text": [
      "INFO:tensorflow:Restoring parameters from vggish_model.ckpt\n"
     ]
    }
   ],
   "source": [
    "vgg_graph = tf.Graph()\n",
    "with vgg_graph.as_default():\n",
    "    session_vgg = tf.Session()\n",
    "    with session_vgg.as_default():\n",
    "        vgg_net = vgg.CreateVGGishNetwork(session_vgg)\n",
    "        vgg_mfcc, _ = vgg.ProcessWithVGGish(session_vgg, vgg_net, '../../../../../../Desktop/2_HGSM3AC_0+1_20160309_055600.wav')\n",
    "        # Save the vgg features locally on machine\n",
    "        with open('../../../../../../Desktop/dfs01.wav', 'wb') as f:\n",
    "            pickle.dump(vgg_mfcc, f)"
   ]
  },
  {
   "cell_type": "code",
   "execution_count": 35,
   "metadata": {},
   "outputs": [
    {
     "name": "stdout",
     "output_type": "stream",
     "text": [
      "Batman\n",
      "2_HGSM3AC_0+1_20160309_055600.wav\n",
      ".DS_Store\n",
      ".localized\n",
      "CNN-GibbonClassification_Clean\n",
      "Screen Shot 2019-06-15 at 9.55.29 PM.png\n",
      "Plots Ideas\n",
      "Screen Shot 2019-06-23 at 10.14.25 PM.png\n",
      "files_labels.numbers\n",
      "Screen Shot 2019-07-01 at 1.01.13 PM.png\n",
      "Screen Shot 2019-06-23 at 10.14.55 PM.png\n",
      "FFT in python.png\n"
     ]
    }
   ],
   "source": [
    "for file in os.listdir('../../../../../../Desktop'):\n",
    "    print(file)"
   ]
  },
  {
   "cell_type": "code",
   "execution_count": 77,
   "metadata": {},
   "outputs": [],
   "source": [
    "## if len(os.listdir(data_path+'clean')) == 0:\n",
    "signal, rate=librosa.load('../../../../../../Desktop/2_HGSM3AC_0+1_20160309_0556004.wav', sr=sr)\n",
    "mask=func.envelope(signal, rate, 0.0005)\n",
    "filename_out='../../../../../../Desktop/dfs4.wav'\n",
    "wavfile.write(filename=filename_out, rate=rate, data=signal[mask])"
   ]
  },
  {
   "cell_type": "code",
   "execution_count": 27,
   "metadata": {},
   "outputs": [
    {
     "name": "stdout",
     "output_type": "stream",
     "text": [
      "(41, 128)\n",
      "(5, 128)\n",
      "0.11838208\n",
      "0.119666\n",
      "0.0012839213\n"
     ]
    }
   ],
   "source": [
    "# Get the difference in features between 2 files\n",
    "data_file_a = pickle.load(open(data_path + 'VGG/' + '1_HGSM3A_0+1_20160304_060000–N–01-261.wav', 'rb'))\n",
    "data_file_b = pickle.load(open(data_path + 'VGG/' + '2_HGSM3AC_0+1_20160309_055600-23.wav', 'rb'))\n",
    "\n",
    "print(data_file_a.shape)\n",
    "print(data_file_b.shape)\n",
    "\n",
    "avg_file_a = np.mean(data_file_a)\n",
    "avg_file_b = np.mean(data_file_b)\n",
    "\n",
    "print(avg_file_a)\n",
    "print(avg_file_b)\n",
    "\n",
    "print(abs(avg_file_b - avg_file_a))"
   ]
  },
  {
   "cell_type": "code",
   "execution_count": null,
   "metadata": {},
   "outputs": [],
   "source": [
    "# 0.00028306246 (2 Gibbons)\n",
    "# 0.0049572513 (1 Gibbon vs Noise)\n",
    "# 0.0008019805 (1 Noise vs Gibbon)\n",
    "# 0.004493393 (2 Noise files)"
   ]
  },
  {
   "cell_type": "code",
   "execution_count": 237,
   "metadata": {},
   "outputs": [
    {
     "name": "stdout",
     "output_type": "stream",
     "text": [
      "[0.11566234730622348, 0.11558497205867872, 0.11579016354176905, 0.11850479625641032, 0.12366361453615386, 0.11756424688630635]\n",
      "[0.11854600791129277, 0.11477959374171245, 0.12001813111275854, 0.12088864858231842, 0.11468847278429538, 0.11648391764991138]\n"
     ]
    }
   ],
   "source": [
    "distances_gibbon, distances_noise = func.get_distance_means(df_unmasked)\n",
    "print(distances_gibbon)\n",
    "print(distances_noise)"
   ]
  },
  {
   "cell_type": "code",
   "execution_count": 245,
   "metadata": {},
   "outputs": [
    {
     "name": "stdout",
     "output_type": "stream",
     "text": [
      "          1         2         3         4         5         6\n",
      "0  0.000000  0.000077  0.000128  0.002842  0.008001  0.001902\n",
      "1  0.000077  0.000000  0.000205  0.002920  0.008079  0.001979\n",
      "2  0.000128  0.000205  0.000000  0.002715  0.007873  0.001774\n",
      "3  0.002842  0.002920  0.002715  0.000000  0.005159  0.000941\n",
      "4  0.008001  0.008079  0.007873  0.005159  0.000000  0.006099\n",
      "5  0.001902  0.001979  0.001774  0.000941  0.006099  0.000000\n",
      "          1         2         3         4         5         6\n",
      "0  0.000000  0.003766  0.001472  0.002343  0.003858  0.002062\n",
      "1  0.003766  0.000000  0.005239  0.006109  0.000091  0.001704\n",
      "2  0.001472  0.005239  0.000000  0.000871  0.005330  0.003534\n",
      "3  0.002343  0.006109  0.000871  0.000000  0.006200  0.004405\n",
      "4  0.003858  0.000091  0.005330  0.006200  0.000000  0.001795\n",
      "5  0.002062  0.001704  0.003534  0.004405  0.001795  0.000000\n",
      "          1         2         3         4         5         6\n",
      "0  0.002884  0.002961  0.002756  0.000041  0.005118  0.000982\n",
      "1  0.000883  0.000805  0.001011  0.003725  0.008884  0.002785\n",
      "2  0.004356  0.004433  0.004228  0.001513  0.003645  0.002454\n",
      "3  0.005226  0.005304  0.005098  0.002384  0.002775  0.003324\n",
      "4  0.000974  0.000896  0.001102  0.003816  0.008975  0.002876\n",
      "5  0.000822  0.000899  0.000694  0.002021  0.007180  0.001080\n"
     ]
    }
   ],
   "source": [
    "difference_gibbons = func.create_difference_matrix(distances_gibbon, distances_gibbon) # Difference between gibs\n",
    "difference_noise = func.create_difference_matrix(distances_noise, distances_noise) # Difference between noise\n",
    "difference_gib_noise = func.create_difference_matrix(distances_gibbon, distances_noise) # Diff between noise and gibs\n",
    "print(difference_gibbons)\n",
    "print(difference_noise)\n",
    "print(difference_gib_noise)"
   ]
  },
  {
   "cell_type": "code",
   "execution_count": null,
   "metadata": {},
   "outputs": [],
   "source": []
  },
  {
   "cell_type": "code",
   "execution_count": null,
   "metadata": {},
   "outputs": [],
   "source": []
  },
  {
   "cell_type": "code",
   "execution_count": null,
   "metadata": {},
   "outputs": [],
   "source": []
  },
  {
   "cell_type": "code",
   "execution_count": null,
   "metadata": {},
   "outputs": [],
   "source": []
  },
  {
   "cell_type": "code",
   "execution_count": null,
   "metadata": {},
   "outputs": [],
   "source": []
  },
  {
   "cell_type": "code",
   "execution_count": null,
   "metadata": {},
   "outputs": [],
   "source": []
  },
  {
   "cell_type": "code",
   "execution_count": null,
   "metadata": {},
   "outputs": [],
   "source": []
  },
  {
   "cell_type": "code",
   "execution_count": 39,
   "metadata": {
    "scrolled": true
   },
   "outputs": [
    {
     "data": {
      "image/png": "[encoded data removed]",
      "text/plain": [
       "<Figure size 432x288 with 1 Axes>"
      ]
     },
     "metadata": {
      "needs_background": "light"
     },
     "output_type": "display_data"
    },
    {
     "data": {
      "image/png": "[encoded data removed]",
      "text/plain": [
       "<Figure size 432x288 with 1 Axes>"
      ]
     },
     "metadata": {
      "needs_background": "light"
     },
     "output_type": "display_data"
    },
    {
     "data": {
      "image/png": "[encoded data removed]",
      "text/plain": [
       "<Figure size 432x288 with 1 Axes>"
      ]
     },
     "metadata": {
      "needs_background": "light"
     },
     "output_type": "display_data"
    },
    {
     "data": {
      "image/png": "[encoded data removed]",
      "text/plain": [
       "<Figure size 432x288 with 1 Axes>"
      ]
     },
     "metadata": {
      "needs_background": "light"
     },
     "output_type": "display_data"
    },
    {
     "data": {
      "image/png": "[encoded data removed]",
      "text/plain": [
       "<Figure size 432x288 with 1 Axes>"
      ]
     },
     "metadata": {
      "needs_background": "light"
     },
     "output_type": "display_data"
    }
   ],
   "source": [
    "# BINARY - 8\n",
    "# Redirecting output to txt file\n",
    "\n",
    "\n",
    "# Cross validation using the binary model\n",
    "cf_b, recall_b, precision_b, fscore_b = cross_validation('binary', df_unmasked, train_X, data_path,\n",
    "                                                              'binary_without_resamp_with_weight_75_plot',\n",
    "                                                              nfolds=5, thresholds=[0.75],\n",
    "                                                              rand_under_samp=False, smote_en_resamp=False,\n",
    "                                                              apply_class_weight=True)\n",
    "\n",
    "\n",
    "print(cf_b)\n",
    "print(recall_b)\n",
    "print(precision_b)\n",
    "print(fscore_b)\n",
    "\n",
    "print('AVG Recall: ', np.mean(recall_b))\n",
    "print('AVG Precision: ', np.mean(precision_b))\n",
    "print('AVG F1 Score: ', np.mean(fscore_b))\n",
    "\n"
   ]
  },
  {
   "cell_type": "code",
   "execution_count": null,
   "metadata": {},
   "outputs": [],
   "source": [
    "def get_binary_model(input_shape=128):\n",
    "    model = Sequential()\n",
    "    model.add(Dense(128, activation='relu', kernel_initializer='random_normal', input_dim=input_shape))\n",
    "    model.add(Dense(256, activation='relu', kernel_initializer='random_normal'))\n",
    "    model.add(Dropout(0.5))\n",
    "    model.add(Dense(128, activation='relu', kernel_initializer='random_normal'))\n",
    "    model.add(Dense(64, activation='relu', kernel_initializer='random_normal'))\n",
    "    model.add(Dense(32, activation='relu', kernel_initializer='random_normal'))\n",
    "    model.add(Dropout(0.5))\n",
    "    model.add(Dense(8, activation='relu', kernel_initializer='random_normal'))\n",
    "    model.add(Dense(1, activation='sigmoid', kernel_initializer='random_normal'))\n",
    "    model.compile(optimizer ='adam', loss='binary_crossentropy', metrics =['acc', km.binary_precision(), km.binary_recall()])\n",
    "    \n",
    "    return model"
   ]
  },
  {
   "cell_type": "code",
   "execution_count": 38,
   "metadata": {},
   "outputs": [],
   "source": [
    "def cross_validation(model_type, file_info, training_files, data_path, model_name_prefix,\n",
    "                     nfolds=5, lstm_steps=[], thresholds=[0.5], apply_class_weight=True,\n",
    "                     rand_under_samp=True, under_samp_ratio=0.3, smote_en_resamp=True, smote_en_neighbors=5,\n",
    "                     include_augmented=False, k_neighbors=5):\n",
    "    # Get the number of testing files based on the number of folds\n",
    "    num_files = len(training_files)\n",
    "    num_test_files = math.floor(num_files/nfolds)\n",
    "    test_start_index = 0\n",
    "    model = None\n",
    "    \n",
    "    conf_matrix = []\n",
    "    recall = []\n",
    "    precision = []\n",
    "    fscore = []\n",
    "    \n",
    "    for i in range(nfolds):\n",
    "        print('####### Fold: ', i)\n",
    "        train_X = []\n",
    "        train_y = []\n",
    "        test_X = []\n",
    "        test_y = []\n",
    "        \n",
    "        # set the starting index\n",
    "        test_start_index = i * num_test_files\n",
    "        # Set the testing and training indexes\n",
    "        test_ind = range(test_start_index, (test_start_index + num_test_files - 2))\n",
    "        # Get the indexes that are not in the testing range\n",
    "        train_ind = [ind for ind in range(num_files) if ind not in test_ind]\n",
    "        \n",
    "        print('####### Reading testing data')\n",
    "        # Read the testing data\n",
    "        for j in test_ind:\n",
    "            # Get the file name and read the data\n",
    "            file = file_info[file_info.fname == training_files[j]].fname.iloc[0]\n",
    "            audio_data = pickle.load(open(data_path + 'VGG/'+ file, 'rb'))\n",
    "            test_X.append(audio_data)\n",
    "            # Get the class label\n",
    "            label = file_info[file_info.fname == training_files[j]].label.iloc[0]\n",
    "            test_y.append(np.repeat([label], (len(audio_data))))\n",
    "        \n",
    "        print('####### Reading training data')\n",
    "        # Read the training data\n",
    "        for j in train_ind:\n",
    "            # Get the file name and read the data\n",
    "            file = file_info[file_info.fname == training_files[j]].fname.iloc[0]\n",
    "            audio_data = pickle.load(open(data_path + 'VGG/' + file, 'rb'))\n",
    "            train_X.append(audio_data)\n",
    "            # Get the class label\n",
    "            label = file_info[file_info.fname == training_files[j]].label.iloc[0]\n",
    "            train_y.append(np.repeat([label], len(audio_data)))\n",
    "        \n",
    "        # Read the Augmented data\n",
    "        # All the augmented data are of class 1 (Gibbon calls)\n",
    "        if include_augmented == True:\n",
    "            # Get the file name and read the data\n",
    "            for file in os.listdir(data_path + 'Augmented/VGG'):\n",
    "                if file.endswith(\".wav\"):\n",
    "                    audio_data = pickle.load(open(data_path + 'Augmented/VGG/' + file, 'rb'))\n",
    "                    train_X.append(audio_data)\n",
    "                    train_y.append(np.repeat(1, len(audio_data)))\n",
    "        \n",
    "        # Reshape the arrays to 1D\n",
    "        train_X = [response for sublist in train_X for response in sublist]\n",
    "        train_y = [response for sublist in train_y for response in sublist]\n",
    "        test_X = [response for sublist in test_X for response in sublist]\n",
    "        test_y = [response for sublist in test_y for response in sublist]\n",
    "\n",
    "        print('######## Before resampling, num Positives (train): ', sum(train_y), '/', len(train_y))\n",
    "        print('######## Before resampling, num Positives (test): ', sum(test_y), '/', len(test_y))\n",
    "        \n",
    "        # Perform resampling techniques inside the cross validation to maximise randomness\n",
    "        # and reduce over-fitting\n",
    "        if rand_under_samp == True:\n",
    "            print('####### Random Undersamp')\n",
    "            train_X, train_y = random_undersampling(train_X, train_y, under_samp_ratio)\n",
    "            print('######## After random undersampling, num Positives (train): ', sum(train_y), '/', len(train_y))\n",
    "            print('######## After random undersampling, num Positives (test): ', sum(test_y), '/', len(test_y))\n",
    "        \n",
    "        if smote_en_resamp == True:\n",
    "            print('####### Smote_En')\n",
    "            train_X, train_y = smote_en_resampling(train_X, train_y, smote_en_neighbors)\n",
    "            print('######## After SMOTE, num Positives (train): ', sum(train_y), '/', len(train_y))\n",
    "            print('######## After SMOTE, num Positives (test): ', sum(test_y), '/', len(test_y))\n",
    "        \n",
    "        # Save the data\n",
    "        with open(data_path + 'CV_Data/' + model_name_prefix + '_train_CV' + str(i), 'wb') as f:\n",
    "            pickle.dump([train_X, train_y], f)\n",
    "        with open(data_path + 'CV_Data/' + model_name_prefix + '_test_CV' + str(i), 'wb') as f:\n",
    "            pickle.dump([test_X, test_y], f)\n",
    "        print('####### Data saved')\n",
    "        \n",
    "        # Fit the model\n",
    "        print('####### Model fitting')\n",
    "        train_X = np.array(train_X)\n",
    "        train_y = np.array(train_y)\n",
    "        test_X = np.array(test_X)\n",
    "        test_y = np.array(test_y)\n",
    "\n",
    "        if model_type == 'lstm':\n",
    "            for step in lstm_steps:\n",
    "                print('####### Step: ', step)\n",
    "                # Reshape the input data\n",
    "                train_X_step, train_y_step = temporalize(X=train_X, y=train_y, lookback=step)\n",
    "                train_X_step = np.array(train_X_step)\n",
    "                train_y_step = np.array(train_y_step)\n",
    "\n",
    "            \n",
    "                train_X_step = train_X_step.reshape(-1, step, 128)\n",
    "                input_shape = (step, 128)\n",
    "                \n",
    "                test_X_step = np.array(test_X)\n",
    "                test_y_step = np.array(test_y)\n",
    "                test_X_step, test_y_step = temporalize(X=test_X_step, y=test_y_step, lookback=step)\n",
    "                test_X_step = np.array(test_X_step)\n",
    "                test_y_step = np.array(test_y_step)\n",
    "                \n",
    "                \n",
    "                test_X_step = test_X_step.reshape(-1, step, 128)\n",
    "                \n",
    "                # Get the model and train it\n",
    "                model = get_recurrent_model(input_shape)\n",
    "                if apply_class_weight == True:\n",
    "                    classes = list(np.unique(file_info.label))\n",
    "                    class_weight = compute_class_weight('balanced', classes, train_y_step)\n",
    "                    model.fit(train_X_step, train_y_step, epochs=50, batch_size=32,\n",
    "                              class_weight=class_weight, verbose=0)\n",
    "                else:\n",
    "                    model.fit(train_X_step, train_y_step, epochs=50, batch_size=32, verbose=0)\n",
    "                # Save the model\n",
    "                class_file_name = model_name_prefix + '_CV' + str(i) + '_step' + str(step) + '.h5'\n",
    "                model.save(data_path + 'Models/' + class_file_name)\n",
    "                print('####### Model saved')\n",
    "                \n",
    "                print('####### Model testing')\n",
    "                # Testing the model\n",
    "                y_pred = model.predict(test_X_step)\n",
    "                for threshold in thresholds:\n",
    "                    print('####### Threshold: ', threshold)\n",
    "                    y_pred_th = (y_pred > threshold)\n",
    "                    \n",
    "                    # Confusion matrix\n",
    "                    cm_test = confusion_matrix(test_y_step, y_pred_th)\n",
    "                    conf_matrix = np.append(conf_matrix, cm_test)\n",
    "                    print(cm_test)\n",
    "\n",
    "                    # Recall\n",
    "                    tpr_test = recall_score(test_y_step, y_pred_th)\n",
    "                    recall = np.append(recall, tpr_test)\n",
    "                    print('TPR: ', tpr_test)\n",
    "\n",
    "                    # Precision\n",
    "                    precision_test = precision_score(test_y_step, y_pred_th)\n",
    "                    precision = np.append(precision, precision_test)\n",
    "                    print('Precision: ', precision_test)\n",
    "\n",
    "                    # F1 score\n",
    "                    fscore_test = f1_score(test_y_step, y_pred_th)\n",
    "                    fscore = np.append(fscore, fscore_test)\n",
    "                    print('F1 score: ', fscore_test)\n",
    "\n",
    "        else:\n",
    "            if model_type == 'binary':\n",
    "                # Get the model and train it\n",
    "                model = get_binary_model()\n",
    "                if apply_class_weight == True:\n",
    "                    classes = list(np.unique(file_info.label))\n",
    "                    class_weight = compute_class_weight('balanced', classes, train_y)\n",
    "                    history = model.fit(train_X, train_y, epochs=50, batch_size=32,\n",
    "                              class_weight=class_weight)\n",
    "                    plt.plot(history.history['acc'])\n",
    "#                     plt.plot(history.history['val_acc'])\n",
    "                    plt.title('model accuracy')\n",
    "                    plt.ylabel('accuracy')\n",
    "                    plt.xlabel('epoch')\n",
    "                    plt.legend(['train'], loc='upper left')\n",
    "                    plt.show()\n",
    "                else:\n",
    "                    model.fit(train_X, train_y, epochs=50, batch_size=32, verbose=0)\n",
    "                # Save the model\n",
    "                class_file_name = model_name_prefix + '_CV' + str(i) + '.h5'\n",
    "                model.save(data_path + 'Models/' + class_file_name)\n",
    "\n",
    "            if model_type == 'knn':\n",
    "                # Rescale the x values for train and test\n",
    "                scaler = StandardScaler()\n",
    "                scaler.fit(train_X)\n",
    "                train_X = scaler.transform(train_X)\n",
    "                test_X = scaler.transform(test_X)\n",
    "                # Get the model and train it\n",
    "                model = KNeighborsClassifier(n_neighbors=k_neighbors)\n",
    "                model.fit(train_X, train_y)\n",
    "            # Save the model\n",
    "            class_file_name = model_name_prefix + '_CV' + str(i) + '.h5'\n",
    "            with open(data_path + 'Models/' + class_file_name, 'wb') as f:\n",
    "                    pickle.dump(model, f)\n",
    "            \n",
    "            print('####### Model saved')\n",
    "\n",
    "            print('####### Model testing')\n",
    "            # Testing the model\n",
    "            y_pred = model.predict(test_X)\n",
    "            for threshold in thresholds:\n",
    "                print('####### Threshold: ', threshold)\n",
    "                y_pred_th = (y_pred > threshold)\n",
    "\n",
    "                # Confusion matrix\n",
    "                cm_test = confusion_matrix(test_y, y_pred_th)\n",
    "                conf_matrix = np.append(conf_matrix, cm_test)\n",
    "                print(cm_test)\n",
    "\n",
    "                # Recall\n",
    "                tpr_test = recall_score(test_y, y_pred_th)\n",
    "                recall = np.append(recall, tpr_test)\n",
    "                print('TPR: ', tpr_test)\n",
    "\n",
    "                # Precision\n",
    "                precision_test = precision_score(test_y, y_pred_th)\n",
    "                precision = np.append(precision, precision_test)\n",
    "                print('Precision: ', precision_test)\n",
    "\n",
    "                # F1 score\n",
    "                fscore_test = f1_score(test_y, y_pred_th)\n",
    "                fscore = np.append(fscore, fscore_test)\n",
    "                print('F1 score: ', fscore_test)\n",
    "\n",
    "    return conf_matrix, recall, precision, fscore"
   ]
  },
  {
   "cell_type": "code",
   "execution_count": null,
   "metadata": {},
   "outputs": [],
   "source": []
  }
 ],
 "metadata": {
  "kernelspec": {
   "display_name": "Python 3",
   "language": "python",
   "name": "python3"
  },
  "language_info": {
   "codemirror_mode": {
    "name": "ipython",
    "version": 3
   },
   "file_extension": ".py",
   "mimetype": "text/x-python",
   "name": "python",
   "nbconvert_exporter": "python",
   "pygments_lexer": "ipython3",
   "version": "3.7.3"
  }
 },
 "nbformat": 4,
 "nbformat_minor": 2
}
